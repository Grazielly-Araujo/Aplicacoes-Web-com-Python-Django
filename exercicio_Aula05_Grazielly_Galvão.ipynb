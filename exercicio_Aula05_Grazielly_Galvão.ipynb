{
  "nbformat": 4,
  "nbformat_minor": 0,
  "metadata": {
    "colab": {
      "provenance": [],
      "collapsed_sections": [],
      "authorship_tag": "ABX9TyOBeXlIx+OyHlzM627rdGfT",
      "include_colab_link": true
    },
    "kernelspec": {
      "name": "python3",
      "display_name": "Python 3"
    },
    "language_info": {
      "name": "python"
    }
  },
  "cells": [
    {
      "cell_type": "markdown",
      "metadata": {
        "id": "view-in-github",
        "colab_type": "text"
      },
      "source": [
        "<a href=\"https://colab.research.google.com/github/Grazielly-Araujo/Aplicacoes-Web-com-Python-Django/blob/main/exercicio_Aula05_Grazielly_Galv%C3%A3o.ipynb\" target=\"_parent\"><img src=\"https://colab.research.google.com/assets/colab-badge.svg\" alt=\"Open In Colab\"/></a>"
      ]
    },
    {
      "cell_type": "code",
      "source": [
        "class Pessoa():\n",
        "  def __init__(self, nome, idade):\n",
        "    self.nome = nome\n",
        "    self.idade = idade\n",
        "  def imprime(self):\n",
        "    print(\"Seja bem-vindo ao Senac \" + nome +  \"!\")\n",
        "\n",
        "class PessoaFisica():\n",
        "  def __init__(self, nome, idade, cpf):\n",
        "    self.nome = nome\n",
        "    self.idade = idade\n",
        "    self.CPF = cpf\n",
        "  def imprime(self):\n",
        "    print(\"Seja bem-vindo ao Senac!\")\n",
        "\n",
        "\n",
        "\n",
        "class PessoaJuridica():\n",
        "  def __init__(self, nome , idade, cnpj):\n",
        "    self.nome = nome\n",
        "    self.idade = idade\n",
        "    self.CNPJ = cnpj\n",
        "  def imprime(self):\n",
        "    print(\"Seja bem-vindo ao Senac!\" )     "
      ],
      "metadata": {
        "id": "GaK6Ta9c97sT"
      },
      "execution_count": null,
      "outputs": []
    }
  ]
}