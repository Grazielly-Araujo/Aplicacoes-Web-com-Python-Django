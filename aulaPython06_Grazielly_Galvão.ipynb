{
  "nbformat": 4,
  "nbformat_minor": 0,
  "metadata": {
    "colab": {
      "provenance": [],
      "collapsed_sections": [],
      "authorship_tag": "ABX9TyMHnBB7Ud5nG0/gMio/b1oS",
      "include_colab_link": true
    },
    "kernelspec": {
      "name": "python3",
      "display_name": "Python 3"
    },
    "language_info": {
      "name": "python"
    }
  },
  "cells": [
    {
      "cell_type": "markdown",
      "metadata": {
        "id": "view-in-github",
        "colab_type": "text"
      },
      "source": [
        "<a href=\"https://colab.research.google.com/github/Grazielly-Araujo/Aplicacoes-Web-com-Python-Django/blob/main/aulaPython06_Grazielly_Galv%C3%A3o.ipynb\" target=\"_parent\"><img src=\"https://colab.research.google.com/assets/colab-badge.svg\" alt=\"Open In Colab\"/></a>"
      ]
    },
    {
      "cell_type": "code",
      "execution_count": null,
      "metadata": {
        "id": "XeKxrVE_HYew"
      },
      "outputs": [],
      "source": [
        "# ABSTRAÇÃO: CLASSE ABSTRATA"
      ]
    },
    {
      "cell_type": "code",
      "source": [
        "# POLIMORFISMO"
      ],
      "metadata": {
        "id": "pXscNXYmKaR5"
      },
      "execution_count": null,
      "outputs": []
    },
    {
      "cell_type": "code",
      "source": [
        "# ENCAPSULAMENTO"
      ],
      "metadata": {
        "id": "OcZdmrgDLe0q"
      },
      "execution_count": null,
      "outputs": []
    },
    {
      "cell_type": "code",
      "source": [
        "# MODIFICADORES DE ACESSO"
      ],
      "metadata": {
        "id": "SbUk6jA2LzJE"
      },
      "execution_count": null,
      "outputs": []
    },
    {
      "cell_type": "code",
      "source": [
        "class Pessoa():\n",
        "  def __init__(self, nome, idade):\n",
        "    self.__nome = nome\n",
        "    self.__idade = idade\n",
        "  def get_nome(self):\n",
        "    return self.__nome"
      ],
      "metadata": {
        "id": "Gj_SNV5sMQMO"
      },
      "execution_count": null,
      "outputs": []
    },
    {
      "cell_type": "code",
      "source": [
        "class Pessoa():\n",
        "  def __init__(self, nome, idade):\n",
        "    self.__nome = nome\n",
        "    self.__idade = idade\n",
        "\n",
        "  def get_nome(self):\n",
        "    return self.__nome\n",
        "\n",
        "  def set_nome(self, novo_nome):\n",
        "\n",
        "    self.__nome = novo_nome   "
      ],
      "metadata": {
        "id": "lko7tKW8NzJ1"
      },
      "execution_count": null,
      "outputs": []
    },
    {
      "cell_type": "code",
      "source": [
        "# DECLARANDO UMA CLASSE\n",
        "\n",
        "class Pessoa():\n",
        "\n",
        "  # CRIANDO O CONSTRUTOR PARA CLASSE PESSOA\n",
        "\n",
        "  def __init__(self, nome, idade):\n",
        "    \n",
        "    #ATRIBUINDO PRIVADOS\n",
        "    self.__nome = nome\n",
        "    self.__idade = idade\n",
        "\n",
        "  def imprimir(self):\n",
        "    print('me chamo %s e tenho %d anos' %(self.nome, self.idade))\n",
        "\n",
        "# CIRANDO UMA INSTANCIA DE PESSOA\n",
        "\n",
        "pessoa = Pessoa('Felipe', 28)\n",
        "\n",
        "# CHAMANDO O METODO DA CLASSE\n",
        "\n",
        "pessoa.imprimir()"
      ],
      "metadata": {
        "id": "XEk9MSb6Obkd"
      },
      "execution_count": null,
      "outputs": []
    },
    {
      "cell_type": "code",
      "source": [
        "# DECLARANDO UMA CLASSE\n",
        "\n",
        "class Pessoa():\n",
        "\n",
        "  # CRIANDO O CONSTRUTOR PARA CLASSE PESSOA\n",
        "  def __init__( self, nome, idade):\n",
        "\n",
        "    # ATRIBUTOS PRIVADOS\n",
        "\n",
        "    self.__nome = nome\n",
        "    self.__idade = idade\n",
        "\n",
        "    # DECLARANDO NOSSOS METDOSO DE ACESSO DOS ATRIBUTOS DA CLASSE \n",
        "  def getNome(self):\n",
        "    return self.__nome\n",
        "\n",
        "  def getIdade(self):\n",
        "    return self.__idade\n",
        "\n",
        "    # DECLARANDO NOSSO METODOS MODIFICADORES DOS ATRIBUTOS DA CLASSE\n",
        "  def setNome(self, nome):\n",
        "    self.__nome = nome\n",
        "\n",
        "  def setIDade(self, idade):\n",
        "    self.__idade = idade\n",
        "\n",
        "  def imprimir(Self):\n",
        "    print('Me chamo %s e tenho %d anos' %(self.getNome(), self.getIdade() ))"
      ],
      "metadata": {
        "id": "syxUDiaAPr5j"
      },
      "execution_count": null,
      "outputs": []
    },
    {
      "cell_type": "code",
      "source": [
        "# CRIANDO UMA INSTANCIA DE PESSOA\n",
        "\n",
        "pessoa = Pessoa('Felipe', 28)\n",
        "\n",
        "# CHAMANDO O METODO DA CLASSE\n",
        "\n",
        "pessoa.imprimir()\n",
        "\n",
        "# MUDANDO VALOR DO NOME USANDO O METODO MODIFICADOR\n",
        "\n",
        "pessoa.setNome('Paulo')\n",
        "\n",
        "# CHAMANDO O METODO DA CLASSE\n",
        "\n",
        "pessoa.imprimir()"
      ],
      "metadata": {
        "id": "uKelEXgsR4rY"
      },
      "execution_count": null,
      "outputs": []
    },
    {
      "cell_type": "code",
      "source": [
        "def nome_funcao (part1, part2):\n",
        "  \n",
        "  instrucao_1 \n",
        "  instrucao_2\n",
        "  instrucao_3\n",
        "\n",
        "  return resultado"
      ],
      "metadata": {
        "id": "aSLnPak6TUwv"
      },
      "execution_count": null,
      "outputs": []
    },
    {
      "cell_type": "code",
      "source": [
        "def foo():\n",
        "\n",
        "  print('Função `foo` foi executada')\n",
        "  print('Como não há parâmentros, o comportamento da função sempre será o mesmo')"
      ],
      "metadata": {
        "id": "W3CYG2BHUFnM"
      },
      "execution_count": null,
      "outputs": []
    },
    {
      "cell_type": "code",
      "source": [
        "def bar(par1):\n",
        "  print(\"Função `bar` foi executada\")\n",
        "  print(f\"Parâmetro par1 recebe {par1} como valor (argumento)\")"
      ],
      "metadata": {
        "id": "s5qcyJ46UqOE"
      },
      "execution_count": null,
      "outputs": []
    },
    {
      "cell_type": "code",
      "source": [
        "bar('Santos')"
      ],
      "metadata": {
        "colab": {
          "base_uri": "https://localhost:8080/"
        },
        "id": "mVhBHH-XU-k_",
        "outputId": "c1ff3285-f119-42ed-eb4c-f1cbbff4023c"
      },
      "execution_count": null,
      "outputs": [
        {
          "output_type": "stream",
          "name": "stdout",
          "text": [
            "Função `bar` foi executada\n",
            "Par\n"
          ]
        }
      ]
    },
    {
      "cell_type": "code",
      "source": [
        "def baz(par1, par2):\n",
        "\n",
        "  print('Função `baz` foi executada')\n",
        "  print(f'Parâmentro par1 recebe argunto {par1}')\n",
        "  print(f'Parâmentro par2 recebe argumento {par2}')"
      ],
      "metadata": {
        "id": "sBHIhGp1VfLf"
      },
      "execution_count": null,
      "outputs": []
    },
    {
      "cell_type": "code",
      "source": [
        "baz ('Santos', 'Dumont')"
      ],
      "metadata": {
        "colab": {
          "base_uri": "https://localhost:8080/"
        },
        "id": "pqVIWZNeV9jv",
        "outputId": "1abe2a21-f754-46a7-a731-d290f79261d2"
      },
      "execution_count": null,
      "outputs": [
        {
          "output_type": "stream",
          "name": "stdout",
          "text": [
            "Função `baz` foi executada\n",
            "Parâmentro par1 recebe argunto Santos\n",
            "Parâmentro par2 recebe argumento Dumont\n"
          ]
        }
      ]
    },
    {
      "cell_type": "code",
      "source": [
        "def baz2(par1, par2 = 'Barney'):\n",
        "  print('Função `baz2` foi executada')\n",
        "  print(f'Parâmentro par1 recebe argunto {par1}')\n",
        "  print(f'Parâmentro par2 recebe argumento {par2}')"
      ],
      "metadata": {
        "id": "sD9FgGoUWGAe"
      },
      "execution_count": null,
      "outputs": []
    },
    {
      "cell_type": "code",
      "source": [
        "baz2 ( par2= \"Dumont\", par1= \"Santos\")"
      ],
      "metadata": {
        "colab": {
          "base_uri": "https://localhost:8080/"
        },
        "id": "QHfSfrALWV0f",
        "outputId": "deb42a01-89d0-4162-9518-7f9fefdbac56"
      },
      "execution_count": null,
      "outputs": [
        {
          "output_type": "stream",
          "name": "stdout",
          "text": [
            "Função `baz2` foi executada\n",
            "Parâmentro par1 recebe argunto Santos\n",
            "Parâmentro par2 recebe argumento Dumont\n"
          ]
        }
      ]
    },
    {
      "cell_type": "code",
      "source": [
        "# RETORNO\n",
        "\n",
        "def adicao (n1, n2):\n",
        "  res = n1 + n2 \n",
        "  return res"
      ],
      "metadata": {
        "id": "rKPnFizpWkRT"
      },
      "execution_count": null,
      "outputs": []
    },
    {
      "cell_type": "code",
      "source": [
        "adicao (3, 7)"
      ],
      "metadata": {
        "colab": {
          "base_uri": "https://localhost:8080/"
        },
        "id": "okADWGlYXBQO",
        "outputId": "a5033618-5740-4636-edb5-919c01b7b8f0"
      },
      "execution_count": null,
      "outputs": [
        {
          "output_type": "execute_result",
          "data": {
            "text/plain": [
              "10"
            ]
          },
          "metadata": {},
          "execution_count": 18
        }
      ]
    },
    {
      "cell_type": "code",
      "source": [
        "def subtracao (n1, n2):\n",
        "  res = n1 - n2\n",
        "  return res\n",
        "\n",
        "def multiplicacao (n1, n2):\n",
        "  res = n1 * n2\n",
        "  return res\n",
        "\n",
        "def divisao (n1, n2):\n",
        "  res = n1 / n2\n",
        "  return res"
      ],
      "metadata": {
        "id": "euMhopQ7XMlO"
      },
      "execution_count": null,
      "outputs": []
    },
    {
      "cell_type": "code",
      "source": [
        "a, b, c, d = 3, 5, 7, 10"
      ],
      "metadata": {
        "id": "0Ar2QuvSemqi"
      },
      "execution_count": null,
      "outputs": []
    },
    {
      "cell_type": "code",
      "source": [
        " #1. 'u' recebe o resultado da adição de 'a' + 'b'\n",
        " #2. 'v' recebe o resultado da subtração entre 'd' e 'c'\n",
        " #3. 'w' recebe o resultado da multiplicação de 'u' e 'v'\n",
        " #4. 'x' recebe o resultado da divisão de 'w' por 2"
      ],
      "metadata": {
        "id": "i2sr8jEAXmGY"
      },
      "execution_count": null,
      "outputs": []
    },
    {
      "cell_type": "code",
      "source": [
        "u = adicao( a, b )\n",
        "v = subtracao( d, c )\n",
        "w = multiplicacao ( u , v)\n",
        "x = divisao ( w, 2)"
      ],
      "metadata": {
        "id": "-1d6ei1AfMT_"
      },
      "execution_count": null,
      "outputs": []
    },
    {
      "cell_type": "code",
      "source": [
        "# FUNÇÕES ANÔNIMAS / LAMBDA"
      ],
      "metadata": {
        "id": "SQy-1PKggDe1"
      },
      "execution_count": null,
      "outputs": []
    },
    {
      "cell_type": "code",
      "source": [
        "lambda x p1, p2, p3: #expressão "
      ],
      "metadata": {
        "id": "_NObpB4FgM_4"
      },
      "execution_count": null,
      "outputs": []
    },
    {
      "cell_type": "code",
      "source": [
        "lambda x: x**2"
      ],
      "metadata": {
        "id": "02L2WC1ggbY6"
      },
      "execution_count": null,
      "outputs": []
    },
    {
      "cell_type": "code",
      "source": [
        "(lambda x: x**2)(2)"
      ],
      "metadata": {
        "id": "gpeKT-xvggBa"
      },
      "execution_count": null,
      "outputs": []
    },
    {
      "cell_type": "code",
      "source": [
        "(lambda x: x**4)(2)"
      ],
      "metadata": {
        "id": "s43NXtC4gu40"
      },
      "execution_count": null,
      "outputs": []
    },
    {
      "cell_type": "code",
      "source": [
        "exp2 = lambda x: x**2\n",
        "exp3 = lambda x: x**3\n",
        "exp4 = lambda x: x**4"
      ],
      "metadata": {
        "id": "9cM-TiAyhQ-x"
      },
      "execution_count": null,
      "outputs": []
    },
    {
      "cell_type": "code",
      "source": [
        "print(exp2(2))\n",
        "print(exp3(2))\n",
        "print(exp4(2))"
      ],
      "metadata": {
        "id": "xB8TRw-dhl-X"
      },
      "execution_count": null,
      "outputs": []
    },
    {
      "cell_type": "code",
      "source": [
        "exp = lambda x,p: x ** p"
      ],
      "metadata": {
        "id": "AEUfVADnaiex"
      },
      "execution_count": null,
      "outputs": []
    },
    {
      "cell_type": "code",
      "source": [
        "print(exp(2,2))\n",
        "print(exp(2,3))\n",
        "print(exp(2,4))"
      ],
      "metadata": {
        "id": "bpc8bjXhiNBM"
      },
      "execution_count": null,
      "outputs": []
    },
    {
      "cell_type": "markdown",
      "source": [
        "print( exp( 2,2))"
      ],
      "metadata": {
        "id": "6L2cL4-3arht"
      }
    },
    {
      "cell_type": "code",
      "source": [
        "exp = lambda x, p=2: x ** p"
      ],
      "metadata": {
        "id": "pL-UHEDrax0d"
      },
      "execution_count": null,
      "outputs": []
    },
    {
      "cell_type": "code",
      "source": [
        "print( exp(2)) \n",
        "print( exp (2, 2))\n",
        "print( exp(2,3))\n",
        "print( exp (2,4))"
      ],
      "metadata": {
        "id": "QcbadFMqa4kr"
      },
      "execution_count": null,
      "outputs": []
    },
    {
      "cell_type": "code",
      "source": [
        "#  \"CLASSES\""
      ],
      "metadata": {
        "id": "-071Vz_qi3jc"
      },
      "execution_count": null,
      "outputs": []
    },
    {
      "cell_type": "code",
      "source": [
        "class Vehicle:\n",
        "  def __init__( self, type, model, manufacturer, seat_capacity):\n",
        "    self.type = type\n",
        "    self.model = model\n",
        "    self.manufacturer = manufacturer\n",
        "    self.seat_capacity =seat_capacity"
      ],
      "metadata": {
        "id": "ZeQBNipObBMe"
      },
      "execution_count": null,
      "outputs": []
    },
    {
      "cell_type": "code",
      "source": [
        "myPlane = Vehicle('plane' , 'A320' ,'Airbus', 180)\n",
        "myCar = Vehicle(  'car', model = 'Uno' , manufacturer = 'fiat', seat_capacity = 5)"
      ],
      "metadata": {
        "id": "kP0-UIoBb72p"
      },
      "execution_count": null,
      "outputs": []
    },
    {
      "cell_type": "code",
      "source": [
        "print( myPlane.type)\n",
        "print( myPlane.manufacturer)\n",
        "print( myPlane.model)\n",
        "print( myPlane.seat_capacity)"
      ],
      "metadata": {
        "colab": {
          "base_uri": "https://localhost:8080/"
        },
        "id": "NSNo-RuTczup",
        "outputId": "f990da96-f460-4309-f8e2-3225a574b5ee"
      },
      "execution_count": null,
      "outputs": [
        {
          "output_type": "stream",
          "name": "stdout",
          "text": [
            "plane\n",
            "Airbus\n",
            "A320\n",
            "180\n"
          ]
        }
      ]
    },
    {
      "cell_type": "code",
      "source": [
        "print( myCar.type)\n",
        "print( myCar.manufacturer)\n",
        "print( myCar.model)\n",
        "print( myCar.seat_capacity)"
      ],
      "metadata": {
        "colab": {
          "base_uri": "https://localhost:8080/"
        },
        "id": "DzUo_Cg_dPBd",
        "outputId": "dab0ce33-ad2c-474e-ed85-f3a12e8aade4"
      },
      "execution_count": null,
      "outputs": [
        {
          "output_type": "stream",
          "name": "stdout",
          "text": [
            "car\n",
            "fiat\n",
            "Uno\n",
            "5\n"
          ]
        }
      ]
    },
    {
      "cell_type": "code",
      "source": [
        "myPlane.model = 'a321'"
      ],
      "metadata": {
        "id": "aLwCPkc8jcn0"
      },
      "execution_count": null,
      "outputs": []
    },
    {
      "cell_type": "code",
      "source": [
        "myPlane.model"
      ],
      "metadata": {
        "colab": {
          "base_uri": "https://localhost:8080/",
          "height": 35
        },
        "id": "ZnwGClm1jhtO",
        "outputId": "b70257dc-ccbf-43e5-881e-1e8058c71daf"
      },
      "execution_count": null,
      "outputs": [
        {
          "output_type": "execute_result",
          "data": {
            "text/plain": [
              "'a321'"
            ],
            "application/vnd.google.colaboratory.intrinsic+json": {
              "type": "string"
            }
          },
          "metadata": {},
          "execution_count": 23
        }
      ]
    },
    {
      "cell_type": "code",
      "source": [
        "class Vehicle:\n",
        "  def __init__( self, type, model, manufacturer, seat_capacity):\n",
        "    self.type = type\n",
        "    self.model = model\n",
        "    self.manufacturer = manufacturer\n",
        "    self.seat_capacity =seat_capacity\n",
        "\n",
        "    # GETTER METHODS\n",
        "\n",
        "  def getModel( self):\n",
        "    return f\"{self.manufacturer} {self.model}\"\n",
        "  \n",
        "  def getSeatCapacity(self):\n",
        "    return self.seat_capacity\n"
      ],
      "metadata": {
        "id": "DWEL39ZheMjQ"
      },
      "execution_count": null,
      "outputs": []
    },
    {
      "cell_type": "code",
      "source": [
        "myPlane = Vehicle( \"PLane\", \"A320\" , \"Airbus\", 180)\n",
        "myCar = Vehicle ( 'Car', model = \"Uno\", manufacturer = 'Fiat', seat_capacity = 5)"
      ],
      "metadata": {
        "id": "FCzGJISehESx"
      },
      "execution_count": null,
      "outputs": []
    },
    {
      "cell_type": "code",
      "source": [
        "print(myPlane.getModel())\n",
        "print(f'Cabem {myPlane.getSeatCapacity()} passageiros no {myPlane.getModel()}')"
      ],
      "metadata": {
        "colab": {
          "base_uri": "https://localhost:8080/"
        },
        "id": "aPh0bXrnh9bm",
        "outputId": "a5e05579-1485-418e-a6ed-734ab7e126b1"
      },
      "execution_count": null,
      "outputs": [
        {
          "output_type": "stream",
          "name": "stdout",
          "text": [
            "Airbus A320\n",
            "Cabem 180 passageiros no Airbus A320\n"
          ]
        }
      ]
    },
    {
      "cell_type": "code",
      "source": [
        "print( myCar.getModel())\n",
        "print(f\"Cabem {myCar.getSeatCapacity()} passageiros no {myCar.getModel()}\")"
      ],
      "metadata": {
        "colab": {
          "base_uri": "https://localhost:8080/"
        },
        "id": "qdKKaqHUj7KK",
        "outputId": "50bb8d0d-ebc3-44c7-a111-821ac21e4157"
      },
      "execution_count": null,
      "outputs": [
        {
          "output_type": "stream",
          "name": "stdout",
          "text": [
            "Fiat Uno\n",
            "Cabem 5 passageiros no Fiat Uno\n"
          ]
        }
      ]
    },
    {
      "cell_type": "code",
      "source": [
        "class Vehicle:\n",
        "  def __init__(self, type, model, manufacturer, seat_capacity):\n",
        "\n",
        "   self.type = type \n",
        "   self.model = model\n",
        "   self.manufacturer = manufacturer\n",
        "   self.seat_capacity = seat_capacity\n",
        "\n",
        "   self.n_passengers_onboard = 0\n",
        "\n",
        "\n",
        "  def getModel(self):\n",
        "    return f\"{self.manufacturer} {self.model}\"  \n",
        "\n",
        "  def getSeatCapacity(self):\n",
        "    return self.seat_capacity  \n",
        "\n",
        "  def getNumPassengersOnboard(self):\n",
        "    return self.n_passengers_onboard\n",
        "\n",
        "  def getNumSeatsAvailable(self):\n",
        "    return self.seat_capacity - self.n_passengers_onboard\n",
        "\n",
        "  #SETTER METHODS\n",
        "\n",
        "  def removeAllPassengers(self):\n",
        "    self.n_passengers_onboard = 0\n",
        "\n",
        "  def embarkePassengers(self, n_passengers_to_embark):\n",
        "    available_seats = self.getNumSeatsAvailable()\n",
        "\n",
        "    if available_seats >= n_passengers_to_embark:\n",
        "      self.n_passengers_onboard += n_passengers_to_embark\n",
        "      return f\"Mais {n_passengers_to_embark} passageiros embarcados com sucesso!\"\n",
        "    else:\n",
        "      return f\"Impossivel embarcar mais {n_passengers_to_embark} passageiros! apenas {available_seats} assentos disponíveis\"  \n",
        "\n",
        "  def removePassengers(self,n_passengers_to_remove):\n",
        "\n",
        "    if n_passengers_to_remove <= self.n_passengers_onboard:\n",
        "      self.n_passengers_onboard -= n_passengers_to_remove\n",
        "      return f\"Desembarcaram {n_passengers_to_remove} passageiros\"\n",
        "\n",
        "    elif self.n_passengers_onboard > 0:\n",
        "      n_passengers_remaining = self.n_passengers_onboard\n",
        "      self.removeAllPassengers()\n",
        "      return f\"Havia apenas {n_passengers_remaining} embarcados! todos desembarcaram\"  \n",
        "    else:\n",
        "      return \"Nenhum passageiro a bordo\"     \n",
        "      return self.seat_capacity - self.n_passemgers_onboard"
      ],
      "metadata": {
        "id": "xsl0T4d_ifDn"
      },
      "execution_count": null,
      "outputs": []
    },
    {
      "cell_type": "code",
      "source": [
        "myPlane = Vehicle ('plane', 'A320', 'Airbus', 180)\n",
        "myCar = Vehicle( 'car', 'Uno', 'Fiat', 5)"
      ],
      "metadata": {
        "id": "07bsQoUVpAd5"
      },
      "execution_count": null,
      "outputs": []
    },
    {
      "cell_type": "code",
      "source": [
        "print( myPlane.embarkePassengers(50))\n",
        "print(f\"{myPlane.getNumPassengersOnboard()} passageiros a bordo\")\n",
        "print(f\"{myPlane.getNumSeatsAvailable()} assentos disponíveis\")"
      ],
      "metadata": {
        "id": "Py3_N89BpRHQ",
        "colab": {
          "base_uri": "https://localhost:8080/"
        },
        "outputId": "3f992de3-c49b-40db-bd1b-434fb31ade4b"
      },
      "execution_count": null,
      "outputs": [
        {
          "output_type": "stream",
          "name": "stdout",
          "text": [
            "Mais 50 passageiros embarcados com sucesso!\n",
            "100 passageiros a bordo\n",
            "80 assentos disponíveis\n"
          ]
        }
      ]
    },
    {
      "cell_type": "code",
      "source": [
        "print(myCar.embarkePassengers(5))\n",
        "print(f\"{myCar.getNumPassengersOnboard()} passageiros a bordo\")\n",
        "print(f\"{myCar.getNumSeatsAvailable()} assentos disponíveis\")"
      ],
      "metadata": {
        "id": "6n1XDMu6pxWX",
        "colab": {
          "base_uri": "https://localhost:8080/"
        },
        "outputId": "793d6c91-b7e3-4654-f0db-c72b8d9042b9"
      },
      "execution_count": null,
      "outputs": [
        {
          "output_type": "stream",
          "name": "stdout",
          "text": [
            "Mais 5 passageiros embarcados com sucesso!\n",
            "5 passageiros a bordo\n",
            "0 assentos disponíveis\n"
          ]
        }
      ]
    },
    {
      "cell_type": "code",
      "source": [
        "print(myCar.removePassengers(5))\n",
        "print(f\"{myCar.getNumPassengersOnboard()} passageiros a bordo\")\n",
        "print(f\"{myCar.getNumSeatsAvailable()} assentos disponíveis\")"
      ],
      "metadata": {
        "colab": {
          "base_uri": "https://localhost:8080/"
        },
        "id": "258Tm7DOoXps",
        "outputId": "58c8747f-6379-402b-df60-dabb4180375d"
      },
      "execution_count": null,
      "outputs": [
        {
          "output_type": "stream",
          "name": "stdout",
          "text": [
            "Nenhum passageiro a bordo\n",
            "0 passageiros a bordo\n",
            "5 assentos disponíveis\n"
          ]
        }
      ]
    },
    {
      "cell_type": "code",
      "source": [
        "# HERANÇA"
      ],
      "metadata": {
        "id": "Yrv26PzMqaAH"
      },
      "execution_count": null,
      "outputs": []
    },
    {
      "cell_type": "code",
      "source": [
        "class Airplane(Vehicle):\n",
        "\n",
        "  def __init__(self, model, manufacturer, airline, seat_capacity):\n",
        "      super().__init__(type = 'plane', model = model, manufacturer = manufacturer, seat_capacity = seat_capacity)\n",
        "      self.airline = airline\n",
        " \n",
        "  def takeoff(self):\n",
        "    print(f'O {self.getModel()} da { self.airline} está decolando com {self.getNumPassengersOnboard()} passageiros ')\n",
        "  \n",
        "  \n",
        "\n",
        "class Car (Vehicle):\n",
        "  def __init__(self, model, manufacturer, seat_capacity):\n",
        "    super().__init__(type = 'car', model = model, manufacturer = manufacturer, seat_capacity = seat_capacity) \n",
        "\n",
        "  def embarkPassengers (self, n_passengers_to_embark, name_driver):\n",
        "\n",
        "    available_seats = self.getNumSeatsAvailable()  \n",
        "    self.name_driver = name_driver\n",
        "\n",
        "    if available_seats >= n_passengers_to_embark:\n",
        "      self.n_passengers_onboard += n_passengers_to_embark\n",
        "      return f\"Mais {n_passengers_to_embark} passageiros embarcados com sucesso!\"\n",
        "\n",
        "    else:\n",
        "      return f\"Impossivel embarcar mais {n_passengers_to_embark} Passageiros! Apenas {available_seats} assentos disponíveis.\"\n",
        "\n",
        "\n",
        "  def drive(self):\n",
        "    if self.getNumPassengersOnboard() > 0 :\n",
        "      print(f\"O {self.getModel()}, conduzido por {self.name_driver}, está na estrada com { self.getNumPassengersOnboard()} passageiros.\")\n",
        "\n",
        "    else:\n",
        "      print(\"um carro não pode operar sem motorista!\")  "
      ],
      "metadata": {
        "id": "3_OBVxgcqhv2"
      },
      "execution_count": null,
      "outputs": []
    },
    {
      "cell_type": "code",
      "source": [
        "latamPlane = Airplane('A320', 'Airbus', 'Latam', 180)  # 'OBS'\n",
        "\n",
        "print(latamPlane.embarkePassengers(130))\n",
        "latamPlane.takeoff()"
      ],
      "metadata": {
        "colab": {
          "base_uri": "https://localhost:8080/"
        },
        "id": "HhHbZWPwsSnb",
        "outputId": "42c806a4-dcb8-4ba6-dce0-18544b69d595"
      },
      "execution_count": null,
      "outputs": [
        {
          "output_type": "stream",
          "name": "stdout",
          "text": [
            "Mais 130 passageiros embarcados com sucesso!\n",
            "O Airbus A320 da Latam está decolando com 130 passageiros \n"
          ]
        }
      ]
    },
    {
      "cell_type": "code",
      "source": [
        "azulPlane = Airplane('ERJ190', 'Embraer', 'Azul', 100)  #  'OBS'\n",
        "\n",
        "print(azulPlane.embarkePassengers(70))\n",
        "azulPlane.takeoff()"
      ],
      "metadata": {
        "colab": {
          "base_uri": "https://localhost:8080/"
        },
        "id": "cD6crAfTuIZ9",
        "outputId": "c987aa0e-9aba-41c9-a30b-64a273dc25f9"
      },
      "execution_count": null,
      "outputs": [
        {
          "output_type": "stream",
          "name": "stdout",
          "text": [
            "Mais 70 passageiros embarcados com sucesso!\n",
            "O Embraer ERJ190 da Azul está decolando com 70 passageiros \n"
          ]
        }
      ]
    },
    {
      "cell_type": "code",
      "source": [
        "myCar = Car('Uno', 'Fiat', 5)\n",
        "\n",
        "print(myCar.embarkPassengers(3, name_driver = \"Sergio\"))\n",
        "myCar.drive()"
      ],
      "metadata": {
        "colab": {
          "base_uri": "https://localhost:8080/"
        },
        "id": "8D54oWUAvghl",
        "outputId": "9c330a72-9edb-44a9-ac4e-77d050ae509c"
      },
      "execution_count": null,
      "outputs": [
        {
          "output_type": "stream",
          "name": "stdout",
          "text": [
            "Mais 3 passageiros embarcados com sucesso!\n",
            "O Fiat Uno, conduzido por Sergio, está na estrada com 3 passageiros.\n"
          ]
        }
      ]
    }
  ]
}