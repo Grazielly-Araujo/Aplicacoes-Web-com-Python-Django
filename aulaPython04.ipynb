{
  "nbformat": 4,
  "nbformat_minor": 0,
  "metadata": {
    "colab": {
      "provenance": [],
      "collapsed_sections": [],
      "authorship_tag": "ABX9TyO1DG8nhb/c+NywRlw/EJr3",
      "include_colab_link": true
    },
    "kernelspec": {
      "name": "python3",
      "display_name": "Python 3"
    },
    "language_info": {
      "name": "python"
    }
  },
  "cells": [
    {
      "cell_type": "markdown",
      "metadata": {
        "id": "view-in-github",
        "colab_type": "text"
      },
      "source": [
        "<a href=\"https://colab.research.google.com/github/Grazielly-Araujo/Aplicacoes-Web-com-Python-Django/blob/main/aulaPython04.ipynb\" target=\"_parent\"><img src=\"https://colab.research.google.com/assets/colab-badge.svg\" alt=\"Open In Colab\"/></a>"
      ]
    },
    {
      "cell_type": "code",
      "execution_count": null,
      "metadata": {
        "id": "TYSCeHTuBUUH"
      },
      "outputs": [],
      "source": [
        "# INTERAÇÃO  [FOR / WHILE / ENUMERATE] "
      ]
    },
    {
      "cell_type": "code",
      "source": [
        "# ESTRUTURA DE REPETIÇÃO - FOR"
      ],
      "metadata": {
        "id": "q575c0wDIaDF"
      },
      "execution_count": null,
      "outputs": []
    },
    {
      "cell_type": "code",
      "source": [
        "#for produto in range( 0, 4 ):"
      ],
      "metadata": {
        "id": "PIzCCXazL-wX"
      },
      "execution_count": null,
      "outputs": []
    },
    {
      "cell_type": "code",
      "source": [
        "#p = str( input ( ' Digite o nome do produto: '))"
      ],
      "metadata": {
        "id": "2FG1H0W_MM0G"
      },
      "execution_count": null,
      "outputs": []
    },
    {
      "cell_type": "code",
      "source": [
        "#v = float( input ( 'Digite o valor do produto: '))"
      ],
      "metadata": {
        "id": "zy2r-kU1MV6n"
      },
      "execution_count": null,
      "outputs": []
    },
    {
      "cell_type": "code",
      "source": [
        "for elemento in [ 1, 2, 3, 4, 5, 6]:\n",
        "  print('Estamos no elemento ', elemento)"
      ],
      "metadata": {
        "colab": {
          "base_uri": "https://localhost:8080/"
        },
        "id": "qZc_thRSMta4",
        "outputId": "d5236fe1-a821-4116-c1d7-11c10b311530"
      },
      "execution_count": null,
      "outputs": [
        {
          "output_type": "stream",
          "name": "stdout",
          "text": [
            "Estamos no elemento  1\n",
            "Estamos no elemento  2\n",
            "Estamos no elemento  3\n",
            "Estamos no elemento  4\n",
            "Estamos no elemento  5\n",
            "Estamos no elemento  6\n"
          ]
        }
      ]
    },
    {
      "cell_type": "code",
      "source": [
        "for elemento in 'STRING':\n",
        "  print(' Estamos no elemento', elemento)"
      ],
      "metadata": {
        "colab": {
          "base_uri": "https://localhost:8080/"
        },
        "id": "sL3Vcn3sNPCG",
        "outputId": "2939119d-45c9-4357-fa8e-305aa0663e09"
      },
      "execution_count": null,
      "outputs": [
        {
          "output_type": "stream",
          "name": "stdout",
          "text": [
            " Estamos no elemento S\n",
            " Estamos no elemento T\n",
            " Estamos no elemento R\n",
            " Estamos no elemento I\n",
            " Estamos no elemento N\n",
            " Estamos no elemento G\n"
          ]
        }
      ]
    },
    {
      "cell_type": "code",
      "source": [
        "for elemento in range(len(\"STRING\")):\n",
        "  print( 'Estamos no elemento ', elemento)"
      ],
      "metadata": {
        "colab": {
          "base_uri": "https://localhost:8080/"
        },
        "id": "XOlRYQs6OCs8",
        "outputId": "5c7203ef-837b-4d35-e7e9-c760f2626db6"
      },
      "execution_count": null,
      "outputs": [
        {
          "output_type": "stream",
          "name": "stdout",
          "text": [
            "Estamos no elemento  0\n",
            "Estamos no elemento  1\n",
            "Estamos no elemento  2\n",
            "Estamos no elemento  3\n",
            "Estamos no elemento  4\n",
            "Estamos no elemento  5\n"
          ]
        }
      ]
    },
    {
      "cell_type": "code",
      "source": [
        "#ESTRUTURA DE REPETIÇÃO - WHILE"
      ],
      "metadata": {
        "id": "ZpWlTyDqOdjm"
      },
      "execution_count": null,
      "outputs": []
    },
    {
      "cell_type": "code",
      "source": [
        "\"\"\"produto = 0 #inicialização \n",
        "while produto < 4: #condição\n",
        "  p = str( input ( \"Digite o nome do produto: \"))\n",
        "  v = float( input ( \"Digite o valor do produto: \"))\n",
        "  produto += 1 #incremento\"\"\""
      ],
      "metadata": {
        "colab": {
          "base_uri": "https://localhost:8080/",
          "height": 53
        },
        "id": "M_AjX_ybO2sN",
        "outputId": "be128aa6-234a-4bf1-b4e4-9cbdcc659aca"
      },
      "execution_count": null,
      "outputs": [
        {
          "output_type": "execute_result",
          "data": {
            "text/plain": [
              "'produto = 0 #inicialização \\nwhile produto < 4: #condição\\n  p = str( input ( \"Digite o nome do produto: \"))\\n  v = float( input ( \"Digite o valor do produto: \"))\\n  produto += 1 #incremento'"
            ],
            "application/vnd.google.colaboratory.intrinsic+json": {
              "type": "string"
            }
          },
          "metadata": {},
          "execution_count": 10
        }
      ]
    },
    {
      "cell_type": "code",
      "source": [
        "\"\"\"elemento = 0\n",
        "\n",
        "while elemento <= len( [ 1, 2, 3, 4, 5,6]):\n",
        "  print(  'Estamos no elemento: ', elemento)\"\"\""
      ],
      "metadata": {
        "colab": {
          "base_uri": "https://localhost:8080/",
          "height": 35
        },
        "id": "LWVEX7syPmqk",
        "outputId": "3ac4886c-1686-4811-92a0-2b078e08e7aa"
      },
      "execution_count": null,
      "outputs": [
        {
          "output_type": "execute_result",
          "data": {
            "text/plain": [
              "\"elemento = 0\\n\\nwhile elemento <= len( [ 1, 2, 3, 4, 5,6]):\\n  print(  'Estamos no elemento: ', elemento)\""
            ],
            "application/vnd.google.colaboratory.intrinsic+json": {
              "type": "string"
            }
          },
          "metadata": {},
          "execution_count": 11
        }
      ]
    },
    {
      "cell_type": "code",
      "source": [
        "elemento = 0\n",
        "\n",
        "while elemento <= len([1, 2, 3, 4, 5, 6]):\n",
        "  print('Estamos no elemento ', elemento)\n",
        "  elemento += 1"
      ],
      "metadata": {
        "colab": {
          "base_uri": "https://localhost:8080/"
        },
        "id": "a0rA6TviQWcd",
        "outputId": "4c50bbe8-ba11-4e46-fa3b-d65dc0018c52"
      },
      "execution_count": null,
      "outputs": [
        {
          "output_type": "stream",
          "name": "stdout",
          "text": [
            "Estamos no elemento  0\n",
            "Estamos no elemento  1\n",
            "Estamos no elemento  2\n",
            "Estamos no elemento  3\n",
            "Estamos no elemento  4\n",
            "Estamos no elemento  5\n",
            "Estamos no elemento  6\n"
          ]
        }
      ]
    },
    {
      "cell_type": "code",
      "source": [
        "s = 'STRING'\n",
        "indice = 0 \n",
        "\n",
        "while indice in range  (len(s)):\n",
        "  print(\" estamos no elemento \", s[indice])\n",
        "  indice +=1"
      ],
      "metadata": {
        "colab": {
          "base_uri": "https://localhost:8080/"
        },
        "id": "3572brkaQ40h",
        "outputId": "076b5331-9fa3-4586-d615-64de383d36c2"
      },
      "execution_count": null,
      "outputs": [
        {
          "output_type": "stream",
          "name": "stdout",
          "text": [
            " estamos no elemento  S\n",
            " estamos no elemento  T\n",
            " estamos no elemento  R\n",
            " estamos no elemento  I\n",
            " estamos no elemento  N\n",
            " estamos no elemento  G\n"
          ]
        }
      ]
    },
    {
      "cell_type": "code",
      "source": [
        "#FUNÇÃO ENUMERATE()"
      ],
      "metadata": {
        "id": "f19ljhXWRd3X"
      },
      "execution_count": null,
      "outputs": []
    },
    {
      "cell_type": "code",
      "source": [
        "palavra = 'tranquilo'\n",
        "\n",
        "for indice  in enumerate( palavra):\n",
        "  print( indice )"
      ],
      "metadata": {
        "colab": {
          "base_uri": "https://localhost:8080/"
        },
        "id": "hECdXwmqSG3C",
        "outputId": "1439f854-43ec-4e58-9582-390d30fa8e90"
      },
      "execution_count": null,
      "outputs": [
        {
          "output_type": "stream",
          "name": "stdout",
          "text": [
            "(0, 't')\n",
            "(1, 'r')\n",
            "(2, 'a')\n",
            "(3, 'n')\n",
            "(4, 'q')\n",
            "(5, 'u')\n",
            "(6, 'i')\n",
            "(7, 'l')\n",
            "(8, 'o')\n"
          ]
        }
      ]
    },
    {
      "cell_type": "code",
      "source": [
        "palavra = 'tranquilo'\n",
        "\n",
        "for indice, letra  in enumerate( palavra):\n",
        "  print( indice, letra )"
      ],
      "metadata": {
        "colab": {
          "base_uri": "https://localhost:8080/"
        },
        "id": "bhBcRf50Srtr",
        "outputId": "f24176d0-ee1c-4730-d715-40a624fe0c89"
      },
      "execution_count": null,
      "outputs": [
        {
          "output_type": "stream",
          "name": "stdout",
          "text": [
            "0 t\n",
            "1 r\n",
            "2 a\n",
            "3 n\n",
            "4 q\n",
            "5 u\n",
            "6 i\n",
            "7 l\n",
            "8 o\n"
          ]
        }
      ]
    },
    {
      "cell_type": "code",
      "source": [
        "lista = [ 'eat', 'sleep', 'repeat']\n",
        "palavra = 'geek'"
      ],
      "metadata": {
        "id": "91i2hkT_T5CA"
      },
      "execution_count": null,
      "outputs": []
    },
    {
      "cell_type": "code",
      "source": [
        "objeto1 = enumerate( lista )\n",
        "objeto2 = enumerate( palavra )"
      ],
      "metadata": {
        "id": "DVodL7bTUI3g"
      },
      "execution_count": null,
      "outputs": []
    },
    {
      "cell_type": "code",
      "source": [
        "  print( \"tipo: \", type(objeto1))\n",
        "  print( list (enumerate(lista)))"
      ],
      "metadata": {
        "colab": {
          "base_uri": "https://localhost:8080/"
        },
        "id": "e_VNoO9aUP4_",
        "outputId": "9508d72e-672e-4d69-cc07-a6d2ab8aa0d2"
      },
      "execution_count": null,
      "outputs": [
        {
          "output_type": "stream",
          "name": "stdout",
          "text": [
            "tipo:  <class 'enumerate'>\n",
            "[(0, 'eat'), (1, 'sleep'), (2, 'repeat')]\n"
          ]
        }
      ]
    },
    {
      "cell_type": "code",
      "source": [
        "  print( list( enumerate( palavra, 2)))"
      ],
      "metadata": {
        "colab": {
          "base_uri": "https://localhost:8080/"
        },
        "id": "wIWeqx6sUzso",
        "outputId": "7ccc7d6a-875c-463a-a42e-6b5d0f3d5200"
      },
      "execution_count": null,
      "outputs": [
        {
          "output_type": "stream",
          "name": "stdout",
          "text": [
            "[(2, 'g'), (3, 'e'), (4, 'e'), (5, 'k')]\n"
          ]
        }
      ]
    },
    {
      "cell_type": "code",
      "source": [
        "s = \"viva o python\"\n",
        "\n",
        "for ch in s:\n",
        "   print( \"oi\")"
      ],
      "metadata": {
        "colab": {
          "base_uri": "https://localhost:8080/"
        },
        "id": "iaHOBxxTVhpN",
        "outputId": "10fc776c-440a-4841-ca04-5fb4d5eb2b68"
      },
      "execution_count": null,
      "outputs": [
        {
          "output_type": "stream",
          "name": "stdout",
          "text": [
            "oi\n",
            "oi\n",
            "oi\n",
            "oi\n",
            "oi\n",
            "oi\n",
            "oi\n",
            "oi\n",
            "oi\n",
            "oi\n",
            "oi\n",
            "oi\n",
            "oi\n"
          ]
        }
      ]
    },
    {
      "cell_type": "code",
      "source": [
        "s = \" viva o python\"\n",
        "\n",
        "for ch in s[3:8]:\n",
        "  print( \"oi\")"
      ],
      "metadata": {
        "colab": {
          "base_uri": "https://localhost:8080/"
        },
        "id": "XbjaniqgWMq3",
        "outputId": "2755f04b-efbd-4a36-ebdd-18d4079d88b5"
      },
      "execution_count": null,
      "outputs": [
        {
          "output_type": "stream",
          "name": "stdout",
          "text": [
            "oi\n",
            "oi\n",
            "oi\n",
            "oi\n",
            "oi\n"
          ]
        }
      ]
    },
    {
      "cell_type": "code",
      "source": [
        "# FAÇA UM PROGRAMA QUE PEÇA 10 NÚMEROS INTEIROS,\n",
        "# CALCULE E MOSTRE A QUANTIDADE DE NÚMEROS PARES E A QUANTIDADE DE NÚMEROS IMPARES"
      ],
      "metadata": {
        "id": "dKbh8o4rotkd"
      },
      "execution_count": null,
      "outputs": []
    },
    {
      "cell_type": "code",
      "source": [
        "x = 1\n",
        "y = 0\n",
        "z = 0\n",
        "while x <= 10:\n",
        "  a = int(input('informe um numero: ')\n",
        "  x = x + 1\n",
        "  if a % 2 == 0:\n",
        "    a = y\n",
        "    y = y + 1\n",
        "  else:\n",
        "    a = z\n",
        "    z = z + 1\n",
        "\n",
        "    print(\"A quantidade de números pares é: \", y)\n",
        "    \n",
        "    print(\"A quantidade de números ímpares é: \", z) "
      ],
      "metadata": {
        "id": "ohCfpbU8o9QN",
        "colab": {
          "base_uri": "https://localhost:8080/"
        },
        "outputId": "cf87cd88-2fa3-4bcf-83c4-78386f739482"
      },
      "execution_count": null,
      "outputs": [
        {
          "name": "stdout",
          "output_type": "stream",
          "text": [
            "informe um numero: 11\n",
            "A quantidade de números pares é:  0\n",
            "A quantidade de números ímpares é:  1\n",
            "informe um numero: 22\n",
            "informe um numero: 33\n",
            "A quantidade de números pares é:  1\n",
            "A quantidade de números ímpares é:  2\n",
            "informe um numero: 44\n",
            "informe um numero: 33\n",
            "A quantidade de números pares é:  2\n",
            "A quantidade de números ímpares é:  3\n",
            "informe um numero: 221\n",
            "A quantidade de números pares é:  2\n",
            "A quantidade de números ímpares é:  4\n",
            "informe um numero: 23\n",
            "A quantidade de números pares é:  2\n",
            "A quantidade de números ímpares é:  5\n",
            "informe um numero: 23\n",
            "A quantidade de números pares é:  2\n",
            "A quantidade de números ímpares é:  6\n",
            "informe um numero: 234\n",
            "informe um numero: 2344\n"
          ]
        }
      ]
    },
    {
      "cell_type": "code",
      "source": [],
      "metadata": {
        "id": "7jMlZ6_ao-Dn"
      },
      "execution_count": null,
      "outputs": []
    },
    {
      "cell_type": "code",
      "source": [],
      "metadata": {
        "id": "4j6Ac6CQo9-2"
      },
      "execution_count": null,
      "outputs": []
    },
    {
      "cell_type": "code",
      "source": [
        "# PRATICA / PRATICA"
      ],
      "metadata": {
        "id": "TDB2n-Twa2J5"
      },
      "execution_count": null,
      "outputs": []
    },
    {
      "cell_type": "code",
      "source": [
        "# 1 CONVITE PARA FESTA PET "
      ],
      "metadata": {
        "id": "CdxkNEwLconB"
      },
      "execution_count": null,
      "outputs": []
    },
    {
      "cell_type": "code",
      "source": [
        "for nome in ['Reginaldo', 'Gisele Pintcher', 'Scooby', 'Marlene', 'Zezinho', 'Cibele', 'Suely']:\n",
        "\n",
        "  convite = ( 'Oi,' + nome + '! Por favor, venha para o sábado pet em minha casa!')\n",
        "\n",
        "  print(convite)"
      ],
      "metadata": {
        "id": "I-cghYgmcuVJ",
        "colab": {
          "base_uri": "https://localhost:8080/"
        },
        "outputId": "d64d083c-ffa4-48a8-cfe8-fd0a08e42344"
      },
      "execution_count": null,
      "outputs": [
        {
          "output_type": "stream",
          "name": "stdout",
          "text": [
            "Oi,Reginaldo! Por favor, venha para o sábado pet em minha casa!\n",
            "Oi,Gisele Pintcher! Por favor, venha para o sábado pet em minha casa!\n",
            "Oi,Scooby! Por favor, venha para o sábado pet em minha casa!\n",
            "Oi,Marlene! Por favor, venha para o sábado pet em minha casa!\n",
            "Oi,Zezinho! Por favor, venha para o sábado pet em minha casa!\n",
            "Oi,Cibele! Por favor, venha para o sábado pet em minha casa!\n",
            "Oi,Suely! Por favor, venha para o sábado pet em minha casa!\n"
          ]
        }
      ]
    },
    {
      "cell_type": "code",
      "source": [],
      "metadata": {
        "id": "XZg8twKbP75Q"
      },
      "execution_count": null,
      "outputs": []
    },
    {
      "cell_type": "code",
      "source": [
        "temperatura = float( input( 'Qual a temperatura? '))\n",
        "\n",
        "if temperatura > 30:\n",
        "  print( 'Vista roupas leves.')\n",
        "\n",
        "else: \n",
        "  print( \"Busque seus casacos.\")"
      ],
      "metadata": {
        "id": "iYp7tri3fizZ"
      },
      "execution_count": null,
      "outputs": []
    },
    {
      "cell_type": "code",
      "source": [
        "#PRÁTICA"
      ],
      "metadata": {
        "id": "BFHUjhXnig1p"
      },
      "execution_count": null,
      "outputs": []
    },
    {
      "cell_type": "code",
      "source": [
        "for um_char in \"Venha para a festa\":\n",
        "  print( um_char)"
      ],
      "metadata": {
        "colab": {
          "base_uri": "https://localhost:8080/"
        },
        "id": "bzZcGaY0hTJ0",
        "outputId": "017ef160-02c7-4da8-8021-f6833883a4d4"
      },
      "execution_count": null,
      "outputs": [
        {
          "output_type": "stream",
          "name": "stdout",
          "text": [
            "V\n",
            "e\n",
            "n\n",
            "h\n",
            "a\n",
            " \n",
            "p\n",
            "a\n",
            "r\n",
            "a\n",
            " \n",
            "a\n",
            " \n",
            "f\n",
            "e\n",
            "s\n",
            "t\n",
            "a\n"
          ]
        }
      ]
    },
    {
      "cell_type": "code",
      "source": [
        "for um_valor in range( 10 ): \n",
        "  print( um_valor)"
      ],
      "metadata": {
        "colab": {
          "base_uri": "https://localhost:8080/"
        },
        "id": "T4CR7VSWh4Nn",
        "outputId": "dc8a928b-ece9-431f-b96b-f570a99277e5"
      },
      "execution_count": null,
      "outputs": [
        {
          "output_type": "stream",
          "name": "stdout",
          "text": [
            "0\n",
            "1\n",
            "2\n",
            "3\n",
            "4\n",
            "5\n",
            "6\n",
            "7\n",
            "8\n",
            "9\n"
          ]
        }
      ]
    },
    {
      "cell_type": "code",
      "source": [
        "#FAÇA UM PROGRAMA QUE CONTE QUANTAS VEZES A LETRA \"S\" APARECE NA FRASE ABAIXO.\n",
        "\n",
        "#\"Educação não transforma o mundo. Educação muda pessoas. pessoas transformando o mundo.\""
      ],
      "metadata": {
        "id": "SlNrBCJIikGm"
      },
      "execution_count": null,
      "outputs": []
    },
    {
      "cell_type": "code",
      "source": [
        "tupla = tuple(\"Educação não transforma o mundo. Educação muda pessoas. pessoas transformando o mundo.\")\n",
        "\n",
        "tupla.count('s') # count ele faz a contagem de determinado valor ( ex.: \"S\")"
      ],
      "metadata": {
        "colab": {
          "base_uri": "https://localhost:8080/"
        },
        "id": "9rIwGyo-ouHu",
        "outputId": "1dfd07a0-8099-4085-d19b-f96b5837cd12"
      },
      "execution_count": null,
      "outputs": [
        {
          "output_type": "execute_result",
          "data": {
            "text/plain": [
              "8"
            ]
          },
          "metadata": {},
          "execution_count": 113
        }
      ]
    },
    {
      "cell_type": "code",
      "source": [
        "#CRIE UMA ESTRUTURA QUE PERGUNTE AO USURÁRIO QUAL O DIA DA SEMANA. SE O DIA FOR \n",
        "# IGUAL A DOMINGO OU IGUAL A SÁBADO, IMPRIMA NA TELA 'HOJE É DIA DE DESCANSO', CASO\n",
        "#CONTRARIO IMPRIMA NA TELA 'VOCÊ PRECISA TRABALHAR!'"
      ],
      "metadata": {
        "id": "D0MyF5kBmBQ_"
      },
      "execution_count": null,
      "outputs": []
    },
    {
      "cell_type": "code",
      "source": [
        "dia = str( input( \"Que dia da semana é hoje: \"))\n",
        "\n",
        "if dia == 'domingo' or dia == 'sábado':\n",
        "  print(\"Hoje é dia de descanso!\")\n",
        "else: \n",
        "  print( 'Você precisa trabalhar!')"
      ],
      "metadata": {
        "id": "mVzwWAHXmcx8"
      },
      "execution_count": null,
      "outputs": []
    },
    {
      "cell_type": "code",
      "source": [],
      "metadata": {
        "id": "PM14llAqldBQ"
      },
      "execution_count": null,
      "outputs": []
    },
    {
      "cell_type": "code",
      "source": [
        "#FAÇA UM PROGRAMA QUE CRIA UMA LISTA AUTOMATICAMENTE USANDO A FUNÇÃO RANGE() E\n",
        "# IMPRIMA NA TELA APENAS OS NÚMEROS PARES.\n",
        "#SEMPRE QUE ENCONTRAR UM NÚMERO ÍMPAR MULTIPLICAR POR ELE MESMO E MOSTRAR NA TELA"
      ],
      "metadata": {
        "id": "zk7SzwcCrBKT"
      },
      "execution_count": null,
      "outputs": []
    },
    {
      "cell_type": "code",
      "source": [
        "for lista in range( 21 ):\n",
        "  if lista %2 == 0:\n",
        "    lista = [lista]\n",
        "    print( ' número par: ', lista)\n",
        "  else:\n",
        "    print( ' número ímpar: ', lista * lista )"
      ],
      "metadata": {
        "id": "1gfe9cXbDtjT"
      },
      "execution_count": null,
      "outputs": []
    }
  ]
}