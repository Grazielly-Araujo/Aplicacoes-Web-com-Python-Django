{
  "nbformat": 4,
  "nbformat_minor": 0,
  "metadata": {
    "colab": {
      "provenance": [],
      "collapsed_sections": [],
      "authorship_tag": "ABX9TyMYqR6AQQD4iQaqcdKro6xA",
      "include_colab_link": true
    },
    "kernelspec": {
      "name": "python3",
      "display_name": "Python 3"
    },
    "language_info": {
      "name": "python"
    }
  },
  "cells": [
    {
      "cell_type": "markdown",
      "metadata": {
        "id": "view-in-github",
        "colab_type": "text"
      },
      "source": [
        "<a href=\"https://colab.research.google.com/github/Grazielly-Araujo/Aplicacoes-Web-com-Python-Django/blob/main/exercicio_Aula04.ipynb\" target=\"_parent\"><img src=\"https://colab.research.google.com/assets/colab-badge.svg\" alt=\"Open In Colab\"/></a>"
      ]
    },
    {
      "cell_type": "code",
      "execution_count": null,
      "metadata": {
        "id": "5Qs1AKbswCUX"
      },
      "outputs": [],
      "source": [
        "## DESAFIO 01"
      ]
    },
    {
      "cell_type": "code",
      "source": [
        "x = 1\n",
        "y = 0\n",
        "z = 0\n",
        "while x <= 10:\n",
        "  a = int(input('informe um numero: '))\n",
        "  x = x + 1\n",
        "  if a % 2 == 0:\n",
        "    a = y\n",
        "    y = y + 1\n",
        "  else:\n",
        "    a = z\n",
        "    z = z + 1\n",
        "\n",
        "    print(\"A quantidade de números pares é: \", y)\n",
        "    \n",
        "    print(\"A quantidade de números ímpares é: \", z) "
      ],
      "metadata": {
        "id": "u4bynG2ewTi1",
        "colab": {
          "base_uri": "https://localhost:8080/"
        },
        "outputId": "3c04e404-ee10-458a-e198-27d93207b959"
      },
      "execution_count": null,
      "outputs": [
        {
          "output_type": "stream",
          "name": "stdout",
          "text": [
            "informe um numero: 1\n",
            "A quantidade de números pares é:  0\n",
            "A quantidade de números ímpares é:  1\n",
            "informe um numero: 2\n",
            "informe um numero: 3\n",
            "A quantidade de números pares é:  1\n",
            "A quantidade de números ímpares é:  2\n",
            "informe um numero: 54\n",
            "informe um numero: 4\n",
            "informe um numero: 6\n",
            "informe um numero: 5\n",
            "A quantidade de números pares é:  4\n",
            "A quantidade de números ímpares é:  3\n",
            "informe um numero: 8\n",
            "informe um numero: 11\n",
            "A quantidade de números pares é:  5\n",
            "A quantidade de números ímpares é:  4\n",
            "informe um numero: 13\n",
            "A quantidade de números pares é:  5\n",
            "A quantidade de números ímpares é:  5\n"
          ]
        }
      ]
    },
    {
      "cell_type": "code",
      "source": [
        "# DESAFIO 02"
      ],
      "metadata": {
        "id": "lC_0ZsqMwrEt"
      },
      "execution_count": null,
      "outputs": []
    },
    {
      "cell_type": "code",
      "source": [
        "temperatura = float( input( 'Qual a temperatura? '))\n",
        "\n",
        "if temperatura > 30:\n",
        "  print( 'Vista roupas leves.')\n",
        "\n",
        "else: \n",
        "  print( \"Busque seus casacos.\")"
      ],
      "metadata": {
        "id": "wj8yDCyGw5N1",
        "colab": {
          "base_uri": "https://localhost:8080/"
        },
        "outputId": "00427114-1494-497c-baf6-164923745f83"
      },
      "execution_count": null,
      "outputs": [
        {
          "output_type": "stream",
          "name": "stdout",
          "text": [
            "Qual a temperatura? 15\n",
            "Busque seus casacos.\n"
          ]
        }
      ]
    },
    {
      "cell_type": "code",
      "source": [
        "# DESAFIO 03"
      ],
      "metadata": {
        "id": "iyQbjzXrxHAK"
      },
      "execution_count": null,
      "outputs": []
    },
    {
      "cell_type": "code",
      "source": [
        "for lista in range( 21 ):\n",
        "  if lista %2 == 0:\n",
        "    lista = [lista]\n",
        "    print( ' número par: ', lista)\n",
        "  else:\n",
        "    print( ' número ímpar: ', lista * lista )"
      ],
      "metadata": {
        "id": "1g26WpaoxKN_",
        "colab": {
          "base_uri": "https://localhost:8080/"
        },
        "outputId": "32588dc6-4747-4f8c-f2fc-9b7d0a8470e6"
      },
      "execution_count": null,
      "outputs": [
        {
          "output_type": "stream",
          "name": "stdout",
          "text": [
            " número par:  [0]\n",
            " número ímpar:  1\n",
            " número par:  [2]\n",
            " número ímpar:  9\n",
            " número par:  [4]\n",
            " número ímpar:  25\n",
            " número par:  [6]\n",
            " número ímpar:  49\n",
            " número par:  [8]\n",
            " número ímpar:  81\n",
            " número par:  [10]\n",
            " número ímpar:  121\n",
            " número par:  [12]\n",
            " número ímpar:  169\n",
            " número par:  [14]\n",
            " número ímpar:  225\n",
            " número par:  [16]\n",
            " número ímpar:  289\n",
            " número par:  [18]\n",
            " número ímpar:  361\n",
            " número par:  [20]\n"
          ]
        }
      ]
    },
    {
      "cell_type": "code",
      "source": [],
      "metadata": {
        "id": "WHOWBVNfxUeN"
      },
      "execution_count": null,
      "outputs": []
    },
    {
      "cell_type": "code",
      "source": [
        "# DESAFIO 04"
      ],
      "metadata": {
        "id": "8S0ZLceRxZTq"
      },
      "execution_count": null,
      "outputs": []
    },
    {
      "cell_type": "code",
      "source": [
        "word = str( input( 'Digite uma palavra: '))\n",
        "\n",
        "for indice, letra in enumerate(word):\n",
        "  print( indice, letra)\n",
        "\n",
        "for indice, letra in enumerate(word):\n",
        "\n",
        "  if letra == 'a' or letra == 'e' or letra == 'i' or letra == 'o' or letra == 'u': \n",
        "    print( 'indice para as vogais: ', indice, letra )"
      ],
      "metadata": {
        "id": "SD3lgzJNxhVC",
        "colab": {
          "base_uri": "https://localhost:8080/"
        },
        "outputId": "59728dd6-f4a6-4443-a6c1-44d0d6cf4205"
      },
      "execution_count": null,
      "outputs": [
        {
          "output_type": "stream",
          "name": "stdout",
          "text": [
            "Digite uma palavra: jujuba\n",
            "0 j\n",
            "1 u\n",
            "2 j\n",
            "3 u\n",
            "4 b\n",
            "5 a\n",
            "indice para as vogais:  1 u\n",
            "indice para as vogais:  3 u\n",
            "indice para as vogais:  5 a\n"
          ]
        }
      ]
    },
    {
      "cell_type": "code",
      "source": [
        "# PRÁTICA 01"
      ],
      "metadata": {
        "id": "R7W0cWgi2PwC"
      },
      "execution_count": null,
      "outputs": []
    },
    {
      "cell_type": "code",
      "source": [
        "for nome in ['Reginaldo', 'Gisele Pintcher', 'Scooby', 'Marlene', \n",
        "              'Zezinho', 'Cibele', 'Suely']:\n",
        "\n",
        "  convite = ( 'Oi,' + nome + '! Por favor, venha para o sábado pet em minha casa!')\n",
        "\n",
        "  print(convite)"
      ],
      "metadata": {
        "id": "M1zPYcQx2Smc",
        "colab": {
          "base_uri": "https://localhost:8080/"
        },
        "outputId": "b774c4a4-6140-4864-d6fd-f5dec7562fd8"
      },
      "execution_count": null,
      "outputs": [
        {
          "output_type": "stream",
          "name": "stdout",
          "text": [
            "Oi,Reginaldo! Por favor, venha para o sábado pet em minha casa!\n",
            "Oi,Gisele Pintcher! Por favor, venha para o sábado pet em minha casa!\n",
            "Oi,Scooby! Por favor, venha para o sábado pet em minha casa!\n",
            "Oi,Marlene! Por favor, venha para o sábado pet em minha casa!\n",
            "Oi,Zezinho! Por favor, venha para o sábado pet em minha casa!\n",
            "Oi,Cibele! Por favor, venha para o sábado pet em minha casa!\n",
            "Oi,Suely! Por favor, venha para o sábado pet em minha casa!\n"
          ]
        }
      ]
    },
    {
      "cell_type": "code",
      "source": [
        "# PRÁTICA 02"
      ],
      "metadata": {
        "id": "f9lXtTDe2oQb"
      },
      "execution_count": null,
      "outputs": []
    },
    {
      "cell_type": "code",
      "source": [
        "frutas = [ 'banana', 'laranja', 'limão', 'morango', 'carambola']"
      ],
      "metadata": {
        "id": "j2ZPSHkl2qdT"
      },
      "execution_count": null,
      "outputs": []
    },
    {
      "cell_type": "code",
      "source": [
        "print( 'morango' in frutas)"
      ],
      "metadata": {
        "colab": {
          "base_uri": "https://localhost:8080/"
        },
        "id": "MQWmyjK-FgDf",
        "outputId": "4f1637bb-f212-49ae-bef2-45f02ddd2d72"
      },
      "execution_count": null,
      "outputs": [
        {
          "output_type": "stream",
          "name": "stdout",
          "text": [
            "True\n"
          ]
        }
      ]
    },
    {
      "cell_type": "code",
      "source": [
        "# PRÁTICA 03"
      ],
      "metadata": {
        "id": "5RAonCBV5Bqw"
      },
      "execution_count": null,
      "outputs": []
    },
    {
      "cell_type": "code",
      "source": [
        "for num in range(100, 150):\n",
        "\n",
        "  if num %2 == 0:\n",
        "    print(num)\n"
      ],
      "metadata": {
        "id": "B0nMYcRXFpFn",
        "colab": {
          "base_uri": "https://localhost:8080/"
        },
        "outputId": "45db7706-dde0-4a34-81c7-0473c9d53ace"
      },
      "execution_count": null,
      "outputs": [
        {
          "output_type": "stream",
          "name": "stdout",
          "text": [
            "100\n",
            "102\n",
            "104\n",
            "106\n",
            "108\n",
            "110\n",
            "112\n",
            "114\n",
            "116\n",
            "118\n",
            "120\n",
            "122\n",
            "124\n",
            "126\n",
            "128\n",
            "130\n",
            "132\n",
            "134\n",
            "136\n",
            "138\n",
            "140\n",
            "142\n",
            "144\n",
            "146\n",
            "148\n"
          ]
        }
      ]
    },
    {
      "cell_type": "code",
      "source": [
        "# PRÁTICA 04"
      ],
      "metadata": {
        "id": "QHrkI165BE4R"
      },
      "execution_count": null,
      "outputs": []
    },
    {
      "cell_type": "code",
      "source": [
        "temperatura = 40\n",
        "while temperatura > 25 :\n",
        "  print('a temeperatura está caindo..', temperatura)\n",
        "  temperatura -= 1\n"
      ],
      "metadata": {
        "id": "Xx0NkhZPGTez",
        "colab": {
          "base_uri": "https://localhost:8080/"
        },
        "outputId": "5ef83d4f-6ca5-4e67-82c1-72f38ebd1f58"
      },
      "execution_count": null,
      "outputs": [
        {
          "output_type": "stream",
          "name": "stdout",
          "text": [
            "a temeperatura está caindo.. 40\n",
            "a temeperatura está caindo.. 39\n",
            "a temeperatura está caindo.. 38\n",
            "a temeperatura está caindo.. 37\n",
            "a temeperatura está caindo.. 36\n",
            "a temeperatura está caindo.. 35\n",
            "a temeperatura está caindo.. 34\n",
            "a temeperatura está caindo.. 33\n",
            "a temeperatura está caindo.. 32\n",
            "a temeperatura está caindo.. 31\n",
            "a temeperatura está caindo.. 30\n",
            "a temeperatura está caindo.. 29\n",
            "a temeperatura está caindo.. 28\n",
            "a temeperatura está caindo.. 27\n",
            "a temeperatura está caindo.. 26\n"
          ]
        }
      ]
    },
    {
      "cell_type": "code",
      "source": [
        "# PRÁTICA 05"
      ],
      "metadata": {
        "id": "vSeKk8YMBLKv"
      },
      "execution_count": null,
      "outputs": []
    },
    {
      "cell_type": "code",
      "source": [
        "contador = 0 \n",
        "while contador < 100 :\n",
        "  print( contador)\n",
        "  contador += 1"
      ],
      "metadata": {
        "id": "rInH-IVzI5sU",
        "colab": {
          "base_uri": "https://localhost:8080/"
        },
        "outputId": "d4b2620d-63b3-4995-d999-c28de47f1b78"
      },
      "execution_count": null,
      "outputs": [
        {
          "output_type": "stream",
          "name": "stdout",
          "text": [
            "0\n",
            "1\n",
            "2\n",
            "3\n",
            "4\n",
            "5\n",
            "6\n",
            "7\n",
            "8\n",
            "9\n",
            "10\n",
            "11\n",
            "12\n",
            "13\n",
            "14\n",
            "15\n",
            "16\n",
            "17\n",
            "18\n",
            "19\n",
            "20\n",
            "21\n",
            "22\n",
            "23\n",
            "24\n",
            "25\n",
            "26\n",
            "27\n",
            "28\n",
            "29\n",
            "30\n",
            "31\n",
            "32\n",
            "33\n",
            "34\n",
            "35\n",
            "36\n",
            "37\n",
            "38\n",
            "39\n",
            "40\n",
            "41\n",
            "42\n",
            "43\n",
            "44\n",
            "45\n",
            "46\n",
            "47\n",
            "48\n",
            "49\n",
            "50\n",
            "51\n",
            "52\n",
            "53\n",
            "54\n",
            "55\n",
            "56\n",
            "57\n",
            "58\n",
            "59\n",
            "60\n",
            "61\n",
            "62\n",
            "63\n",
            "64\n",
            "65\n",
            "66\n",
            "67\n",
            "68\n",
            "69\n",
            "70\n",
            "71\n",
            "72\n",
            "73\n",
            "74\n",
            "75\n",
            "76\n",
            "77\n",
            "78\n",
            "79\n",
            "80\n",
            "81\n",
            "82\n",
            "83\n",
            "84\n",
            "85\n",
            "86\n",
            "87\n",
            "88\n",
            "89\n",
            "90\n",
            "91\n",
            "92\n",
            "93\n",
            "94\n",
            "95\n",
            "96\n",
            "97\n",
            "98\n",
            "99\n"
          ]
        }
      ]
    },
    {
      "cell_type": "code",
      "source": [
        "# PRÁTICA 06"
      ],
      "metadata": {
        "id": "tHUVKnchBLKQ"
      },
      "execution_count": null,
      "outputs": []
    },
    {
      "cell_type": "code",
      "source": [
        "lista = []\n",
        "var = 4\n",
        "while var <= 18:\n",
        " var += 2 \n",
        " lista.append(var)\n",
        "print(lista)"
      ],
      "metadata": {
        "id": "C-3twfUyJXBp",
        "colab": {
          "base_uri": "https://localhost:8080/"
        },
        "outputId": "56b80d44-23c0-4ccb-f37e-a3ad8f8b1692"
      },
      "execution_count": null,
      "outputs": [
        {
          "output_type": "stream",
          "name": "stdout",
          "text": [
            "[6, 8, 10, 12, 14, 16, 18, 20]\n"
          ]
        }
      ]
    },
    {
      "cell_type": "code",
      "source": [
        "# PRÁTICA 07"
      ],
      "metadata": {
        "id": "LrfN9E6wBQnD"
      },
      "execution_count": null,
      "outputs": []
    },
    {
      "cell_type": "code",
      "source": [
        "temperatura = float(input('Qual a temperatura?' ))\n",
        "if temperatura > 30:\n",
        " print('Vista roupas leves.')\n",
        "else:\n",
        " print('Busque seus casacos.')\n"
      ],
      "metadata": {
        "colab": {
          "base_uri": "https://localhost:8080/"
        },
        "id": "_p4gEuv5NJjd",
        "outputId": "df6ed006-e364-4bc4-a221-6691e948eadb"
      },
      "execution_count": null,
      "outputs": [
        {
          "output_type": "stream",
          "name": "stdout",
          "text": [
            "Qual a temperatura?33\n",
            "Vista roupas leves.\n"
          ]
        }
      ]
    },
    {
      "cell_type": "code",
      "source": [
        "# PRÁTICA 08"
      ],
      "metadata": {
        "id": "ImNN5PuFB6es"
      },
      "execution_count": null,
      "outputs": []
    },
    {
      "cell_type": "code",
      "source": [
        "tupla = tuple(\"Educação não transforma o mundo. Educação muda pessoas. pessoas transformando o mundo.\")\n",
        "\n",
        "tupla.count('s')"
      ],
      "metadata": {
        "colab": {
          "base_uri": "https://localhost:8080/"
        },
        "id": "UkOkK5DnNgFt",
        "outputId": "0bff5e7b-66d4-4a92-ccdb-f01faa69e98a"
      },
      "execution_count": null,
      "outputs": [
        {
          "output_type": "execute_result",
          "data": {
            "text/plain": [
              "8"
            ]
          },
          "metadata": {},
          "execution_count": 79
        }
      ]
    },
    {
      "cell_type": "code",
      "source": [
        "# PRÁTICA 09"
      ],
      "metadata": {
        "id": "35RxqS3YB80R"
      },
      "execution_count": null,
      "outputs": []
    },
    {
      "cell_type": "code",
      "source": [
        "tupla = tuple(\"Educação não transforma o mundo. Educação muda pessoas. pessoas transformando o mundo.\")\n",
        "\n",
        "tupla.count('s')"
      ],
      "metadata": {
        "id": "TZaOYUhENvaN"
      },
      "execution_count": null,
      "outputs": []
    },
    {
      "cell_type": "code",
      "source": [
        "# PRÁTICA 10"
      ],
      "metadata": {
        "id": "HkMdAxMyB_q-"
      },
      "execution_count": null,
      "outputs": []
    },
    {
      "cell_type": "code",
      "source": [
        "lista = ['a', 'b', 'c', 'd', 'e', 'f', 'g', 'h']\n",
        "\n",
        "print(lista[6:8])"
      ],
      "metadata": {
        "colab": {
          "base_uri": "https://localhost:8080/"
        },
        "id": "hlJlBbbwN7pE",
        "outputId": "3077d18d-ce26-4691-b741-af33855e84b6"
      },
      "execution_count": null,
      "outputs": [
        {
          "output_type": "stream",
          "name": "stdout",
          "text": [
            "['g', 'h']\n"
          ]
        }
      ]
    },
    {
      "cell_type": "code",
      "source": [
        "#PRÁTICA 11"
      ],
      "metadata": {
        "id": "p5DujijEOs2q"
      },
      "execution_count": null,
      "outputs": []
    },
    {
      "cell_type": "code",
      "source": [
        "dict1 = {'a':1,'b':2} \n",
        "dict2 = {'c':4,'d':5}\n",
        "\n",
        "dict3 = {}\n",
        "\n",
        "dict3 ['a'] = 4\n",
        "dict3 ['b'] = 5\n",
        "\n",
        "print(dict3)"
      ],
      "metadata": {
        "colab": {
          "base_uri": "https://localhost:8080/"
        },
        "id": "DX-MhO6pO1ju",
        "outputId": "c04a4f06-2b1d-495f-d019-806007beff69"
      },
      "execution_count": null,
      "outputs": [
        {
          "output_type": "stream",
          "name": "stdout",
          "text": [
            "{'a': 4, 'b': 5}\n"
          ]
        }
      ]
    },
    {
      "cell_type": "code",
      "source": [
        "# PRÁTICA 12"
      ],
      "metadata": {
        "id": "3p52mpY9SDF0"
      },
      "execution_count": null,
      "outputs": []
    },
    {
      "cell_type": "code",
      "source": [
        "for um_valor in range(10):\n",
        "  print(um_valor)\n"
      ],
      "metadata": {
        "id": "DH3tHoP_SJH1"
      },
      "execution_count": null,
      "outputs": []
    },
    {
      "cell_type": "code",
      "source": [
        "# PRÁTICA 13"
      ],
      "metadata": {
        "id": "K7u2i9PFTvdL"
      },
      "execution_count": null,
      "outputs": []
    },
    {
      "cell_type": "code",
      "source": [
        "for um_char in \"Venha para a festa\":\n",
        " print(um_char)"
      ],
      "metadata": {
        "colab": {
          "base_uri": "https://localhost:8080/"
        },
        "id": "BZWaiDSJT34Y",
        "outputId": "c7472440-ede3-4bed-e885-28b0f68a0dff"
      },
      "execution_count": null,
      "outputs": [
        {
          "output_type": "stream",
          "name": "stdout",
          "text": [
            "V\n",
            "e\n",
            "n\n",
            "h\n",
            "a\n",
            " \n",
            "p\n",
            "a\n",
            "r\n",
            "a\n",
            " \n",
            "a\n",
            " \n",
            "f\n",
            "e\n",
            "s\n",
            "t\n",
            "a\n"
          ]
        }
      ]
    }
  ]
}