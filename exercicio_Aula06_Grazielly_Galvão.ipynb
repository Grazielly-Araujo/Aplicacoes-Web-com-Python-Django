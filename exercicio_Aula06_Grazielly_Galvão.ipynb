{
  "nbformat": 4,
  "nbformat_minor": 0,
  "metadata": {
    "colab": {
      "provenance": [],
      "collapsed_sections": [],
      "authorship_tag": "ABX9TyOoNIZWgPJ6qqU7dtoDzxC8",
      "include_colab_link": true
    },
    "kernelspec": {
      "name": "python3",
      "display_name": "Python 3"
    },
    "language_info": {
      "name": "python"
    }
  },
  "cells": [
    {
      "cell_type": "markdown",
      "metadata": {
        "id": "view-in-github",
        "colab_type": "text"
      },
      "source": [
        "<a href=\"https://colab.research.google.com/github/Grazielly-Araujo/Aplicacoes-Web-com-Python-Django/blob/main/exercicio_Aula06_Grazielly_Galv%C3%A3o.ipynb\" target=\"_parent\"><img src=\"https://colab.research.google.com/assets/colab-badge.svg\" alt=\"Open In Colab\"/></a>"
      ]
    },
    {
      "cell_type": "code",
      "execution_count": null,
      "metadata": {
        "id": "DC_o5aLdx8B2"
      },
      "outputs": [],
      "source": [
        "# PRATICA 06 - PART. 2"
      ]
    },
    {
      "cell_type": "code",
      "source": [
        "# FUNÇÕES E MÉTODOS"
      ],
      "metadata": {
        "id": "zZXclFNjyJFg"
      },
      "execution_count": null,
      "outputs": []
    },
    {
      "cell_type": "code",
      "source": [
        "def funcaoLeitura():\n",
        "  for i in range(5): \n",
        "    print(\"Número\", i)"
      ],
      "metadata": {
        "id": "KGceqKodyL4J"
      },
      "execution_count": null,
      "outputs": []
    },
    {
      "cell_type": "code",
      "source": [
        "funcaoLeitura()"
      ],
      "metadata": {
        "colab": {
          "base_uri": "https://localhost:8080/"
        },
        "id": "nEnIFVxVyckc",
        "outputId": "acc84b4a-971c-4da2-ac8e-8dc4d0fa5a49"
      },
      "execution_count": null,
      "outputs": [
        {
          "output_type": "stream",
          "name": "stdout",
          "text": [
            "Número 0\n",
            "Número 1\n",
            "Número 2\n",
            "Número 3\n",
            "Número 4\n"
          ]
        }
      ]
    },
    {
      "cell_type": "code",
      "source": [
        "# FUNÇÃO PARA SOMAR DOIS NÚMEROS\n",
        "\n",
        "def addNum(n1, n2):\n",
        "  print(\"O primeiro número é: \", n1)\n",
        "  print(\"O segundo número é: \", n2)\n",
        "  print(\"A soma dos números é: \", n1+n2)\n",
        "\n",
        " "
      ],
      "metadata": {
        "id": "6SM0iLMiyiJi"
      },
      "execution_count": null,
      "outputs": []
    },
    {
      "cell_type": "code",
      "source": [
        "addNum(45,6)"
      ],
      "metadata": {
        "colab": {
          "base_uri": "https://localhost:8080/"
        },
        "id": "zykZUp2rzGDb",
        "outputId": "130e227a-1023-4a19-99eb-ee232021d5c0"
      },
      "execution_count": null,
      "outputs": [
        {
          "output_type": "stream",
          "name": "stdout",
          "text": [
            "O primeiro número é:  45\n",
            "O segundo número é:  6\n",
            "A soma dos números é:  51\n"
          ]
        }
      ]
    },
    {
      "cell_type": "code",
      "source": [
        "# VARIÁVEIS GLOBAIS E LOCAIS "
      ],
      "metadata": {
        "id": "NfjlPK72zLjK"
      },
      "execution_count": null,
      "outputs": []
    },
    {
      "cell_type": "code",
      "source": [
        "varGlobal = 10 # essa é uma variável global\n",
        "\n",
        "def multiplicacao(num1, num2):\n",
        "  varGlobal = (num1*num2)  #essa é uma variável local\n",
        "  print(\"Variável de função Multiplica: \", varGlobal)\n",
        "\n",
        "    "
      ],
      "metadata": {
        "id": "_g_3iJFMzPAA"
      },
      "execution_count": null,
      "outputs": []
    },
    {
      "cell_type": "code",
      "source": [
        "multiplicacao(5, 4)\n",
        "print(varGlobal)"
      ],
      "metadata": {
        "colab": {
          "base_uri": "https://localhost:8080/"
        },
        "id": "eSnJWZ7iz63U",
        "outputId": "6ae753de-5c12-40c7-b1cb-c7b9e931a6c4"
      },
      "execution_count": null,
      "outputs": [
        {
          "output_type": "stream",
          "name": "stdout",
          "text": [
            "Variável de função Multiplica:  20\n",
            "10\n"
          ]
        }
      ]
    },
    {
      "cell_type": "code",
      "source": [
        "varGobal = 10 \n",
        "\n",
        "def multiplica(num1, num2):\n",
        "  varLocal = num1 * num2\n",
        "  print(\"variável da função Multiplica: \", varLocal)\n"
      ],
      "metadata": {
        "id": "e0drRijC0RdS"
      },
      "execution_count": null,
      "outputs": []
    },
    {
      "cell_type": "code",
      "source": [
        "multiplica(5, 4)\n"
      ],
      "metadata": {
        "colab": {
          "base_uri": "https://localhost:8080/"
        },
        "id": "5mTTQa7V0m7x",
        "outputId": "fb8adac8-2cf9-4556-a648-d2440023ecac"
      },
      "execution_count": null,
      "outputs": [
        {
          "output_type": "stream",
          "name": "stdout",
          "text": [
            "variável da função Multiplica:  20\n"
          ]
        }
      ]
    },
    {
      "cell_type": "code",
      "source": [
        "print(varLocal)"
      ],
      "metadata": {
        "colab": {
          "base_uri": "https://localhost:8080/",
          "height": 165
        },
        "id": "Ohl3xFPA04Pf",
        "outputId": "eda7a81a-be06-4a5e-a46d-45b3de12f968"
      },
      "execution_count": null,
      "outputs": [
        {
          "output_type": "error",
          "ename": "NameError",
          "evalue": "ignored",
          "traceback": [
            "\u001b[0;31m---------------------------------------------------------------------------\u001b[0m",
            "\u001b[0;31mNameError\u001b[0m                                 Traceback (most recent call last)",
            "\u001b[0;32m<ipython-input-12-6ff1d360d399>\u001b[0m in \u001b[0;36m<module>\u001b[0;34m\u001b[0m\n\u001b[0;32m----> 1\u001b[0;31m \u001b[0mprint\u001b[0m\u001b[0;34m(\u001b[0m\u001b[0mvarLocal\u001b[0m\u001b[0;34m)\u001b[0m\u001b[0;34m\u001b[0m\u001b[0;34m\u001b[0m\u001b[0m\n\u001b[0m",
            "\u001b[0;31mNameError\u001b[0m: name 'varLocal' is not defined"
          ]
        }
      ]
    },
    {
      "cell_type": "code",
      "source": [
        "for i in range(5):\n",
        "  print(i)"
      ],
      "metadata": {
        "id": "2cCl6gaB1IMT"
      },
      "execution_count": null,
      "outputs": []
    },
    {
      "cell_type": "code",
      "source": [
        "def separarTexto(texto):\n",
        "  return texto.split()"
      ],
      "metadata": {
        "id": "gCiCMZ-S1UhB"
      },
      "execution_count": null,
      "outputs": []
    },
    {
      "cell_type": "code",
      "source": [
        "token = separarTexto(\"Cibele Maria\")\n",
        "\n",
        "print(token)"
      ],
      "metadata": {
        "id": "1nWTrfYf1egX"
      },
      "execution_count": null,
      "outputs": []
    },
    {
      "cell_type": "code",
      "source": [
        "def variosParametros(*parametros):\n",
        "  for n, item in enumerate(parametros):\n",
        "    print(\"O parâmetro %d é: \" %(n), item)"
      ],
      "metadata": {
        "id": "s-OhD8SK10GU"
      },
      "execution_count": null,
      "outputs": []
    },
    {
      "cell_type": "code",
      "source": [
        "variosParametros(\"pitomba\", \"jambo\", \"Siriguela\", \"Umbu\")"
      ],
      "metadata": {
        "id": "eHpqINzl2nqO"
      },
      "execution_count": null,
      "outputs": []
    },
    {
      "cell_type": "code",
      "source": [
        "import math        #Pacote com um conjunto de funções matemática\n",
        "\n",
        "def numPrimo(num):\n",
        "\n",
        "  #verificação se um número é primo\n",
        "\n",
        "  if (num %2) ==0 and num > 2:\n",
        "    return (\"Este número não é primo\")\n",
        "  for i in range(3, int(math.sqrt(num)) +1, 2):\n",
        "    if (num % i) == 0:\n",
        "      return (\"Este numero não é primo\")\n",
        "  return (\"Este numero é primo!\")      "
      ],
      "metadata": {
        "id": "NDwwM1eO20-J"
      },
      "execution_count": null,
      "outputs": []
    },
    {
      "cell_type": "code",
      "source": [
        "numPrimo(47)"
      ],
      "metadata": {
        "id": "wwUtQ8zr4C3p"
      },
      "execution_count": null,
      "outputs": []
    },
    {
      "cell_type": "code",
      "source": [
        "# CALCULADORA \n",
        "\n",
        "\n",
        "def soma (n1, n2):\n",
        "  return n1+ n2\n",
        "\n",
        "def subtrai (n1, n2):\n",
        "  return n1 - n2\n",
        "\n",
        "def mult (n1, n2):\n",
        "  return n1 * n2\n",
        "\n",
        "def divide (n1, n2):\n",
        "  return n1 / n2  "
      ],
      "metadata": {
        "id": "Xz6ni1OB4Gx4"
      },
      "execution_count": null,
      "outputs": []
    },
    {
      "cell_type": "code",
      "source": [
        "while True:\n",
        "\n",
        " \n",
        "  print(\"| MENU DE OPERAÇÕES\")\n",
        "  print(\"| 1 - somar \")\n",
        "  print(\"| 2 - subtrair \")\n",
        "  print(\"| 3 - multiplicar \")\n",
        "  print(\"| 4 - dividir \")\n",
        "  print(\"| 0 - sair \")\n",
        " \n",
        "\n",
        "  op = int(input())\n",
        "  if op == 0:\n",
        "    break\n",
        "\n",
        "  n1 = int(input(\"Primeiro número: \"))  \n",
        "  n2 = int( input(\" segundo número: \"))\n",
        "\n",
        "  if op == 1:\n",
        "    print('O resultado da soma é: ', soma(n1, n2))\n",
        "  elif op == 2:\n",
        "    print('O resultado da subtração é: ', subtrai(n1, n2))\n",
        "  elif op == 3:\n",
        "    print('O resultado da multiplicação é: ', mult(n1, n2)) \n",
        "  elif op == 4:\n",
        "    print('O resultado da divisão é: ', divide(n1, n2))     \n"
      ],
      "metadata": {
        "id": "7PZGr_Id5eeE"
      },
      "execution_count": null,
      "outputs": []
    },
    {
      "cell_type": "code",
      "source": [
        "class Pessoa():\n",
        "\n",
        "  def __init__(self, n, i):\n",
        "    self.nome = n\n",
        "    self.idade = i\n",
        "\n",
        "  def apresentacao(self):\n",
        "    print(\"Seja bem vindo ao Python!\")"
      ],
      "metadata": {
        "id": "frEbNnxa-XAk"
      },
      "execution_count": null,
      "outputs": []
    },
    {
      "cell_type": "code",
      "source": [
        "class PessoaFisica():\n",
        "\n",
        "  def __init__(self, n, i, cpf):\n",
        "    self.nome = n\n",
        "    self.idade = i \n",
        "    self.cpf = cpf\n",
        "\n",
        "  def apresentacao(self):\n",
        "    print(\"Seja bem vindo ao Python!\")  "
      ],
      "metadata": {
        "id": "AeBhLZxKC50V"
      },
      "execution_count": null,
      "outputs": []
    },
    {
      "cell_type": "code",
      "source": [
        "def impostoDeRenda( self, *salario):\n",
        "  \n",
        "  s= sum(salario)\n",
        "  ir= s* 0.015\n",
        "  print(\"o valor do seu imposto de renda é R$ \", ir )\n",
        "  return ir"
      ],
      "metadata": {
        "id": "VIe6OkiJDYDm"
      },
      "execution_count": null,
      "outputs": []
    },
    {
      "cell_type": "code",
      "source": [
        "class PessoaJuridica():\n",
        "\n",
        "  def __init__( self, n, i, cnpj):\n",
        "    self.nome = n\n",
        "    self.idade = i\n",
        "    self.cnpj = cnpj\n",
        "\n",
        "  def apresentacao(self):\n",
        "    print(\"Seja bem vindo ao Python!\")  \n",
        "\n",
        "  def impostoDeRenda(self, salario):\n",
        "    ir = salario*0.10\n",
        "    print(\"O valor do seu imposto de renda é R$ \", ir)\n",
        "    return ir"
      ],
      "metadata": {
        "id": "5u4cWEmXDw6i"
      },
      "execution_count": null,
      "outputs": []
    },
    {
      "cell_type": "code",
      "source": [
        "\n",
        "nome = str(input(\"Nome: \"))\n",
        "age = int(input(\"Idade: \"))\n",
        "cnpj = int(input(\"CNPJ: \"))\n",
        "\n",
        "serumaninho = Pessoa(nome,age)\n",
        "comunidade = PessoaJuridica(nome, age, cnpj)\n",
        "\n",
        "serumaninho.nome\n",
        "\n",
        "serumaninho.idade\n",
        "serumaninho.apresentacao()\n",
        "\n",
        "salario = float(input(\" Receita: \"))\n",
        "comunidade.impostoDeRenda(salario)\n",
        "print(\"Fim!\")"
      ],
      "metadata": {
        "id": "wfSAQnfxEkd9"
      },
      "execution_count": null,
      "outputs": []
    },
    {
      "cell_type": "code",
      "source": [
        "# PRATICA 06 - PART. 3"
      ],
      "metadata": {
        "id": "nzDKn_VgG7KT"
      },
      "execution_count": null,
      "outputs": []
    },
    {
      "cell_type": "code",
      "source": [
        "# ORIENTAÇÃO A OBJETOS: CLASSES"
      ],
      "metadata": {
        "id": "KRe1b3p4ILzp"
      },
      "execution_count": null,
      "outputs": []
    },
    {
      "cell_type": "code",
      "source": [
        "# FILMES E SUA CARACTERÍSTICAS\n",
        "\n",
        "\"\"\" NOME;\n",
        "    ANO; \n",
        "    DURAÇÃO.\"\"\"\n",
        "\n",
        "\n",
        "# SERIE E SUAS CARACTERÍSTICAS\n",
        "\n",
        "\"\"\" NOME;\n",
        "    ANO;\n",
        "    TEMPORADAS.\"\"\""
      ],
      "metadata": {
        "id": "Uppq6ZISIpD-"
      },
      "execution_count": null,
      "outputs": []
    },
    {
      "cell_type": "code",
      "source": [
        "class Filme():\n",
        "  pass\n",
        "snowden = Filme()\n",
        "print(snowden)\n",
        "\n",
        "\n"
      ],
      "metadata": {
        "colab": {
          "base_uri": "https://localhost:8080/"
        },
        "id": "XV5Tji7VdDdX",
        "outputId": "663549d9-3eb5-42fd-9ea5-637ef444439a"
      },
      "execution_count": null,
      "outputs": [
        {
          "output_type": "stream",
          "name": "stdout",
          "text": [
            "<__main__.Filme object at 0x7f5ac6a278d0>\n"
          ]
        }
      ]
    },
    {
      "cell_type": "code",
      "source": [
        "class Filme():\n",
        "   \n",
        "   def __init__(self, n, a, duracao):\n",
        "\n",
        "     self.name = n\n",
        "     self.year = a\n",
        "     self.duracao = duracao \n",
        "   def imprime(self):\n",
        "     snowden = Filme()\n",
        "     print(snowden.name)     \n"
      ],
      "metadata": {
        "id": "RCyha3RVHCBm"
      },
      "execution_count": null,
      "outputs": []
    },
    {
      "cell_type": "code",
      "source": [
        "snowden = Filme('Snowden: Herói ou vilão', 2018, 160)\n",
        "\n",
        "print(snowden.name)"
      ],
      "metadata": {
        "colab": {
          "base_uri": "https://localhost:8080/"
        },
        "id": "NUIUZQ2setz9",
        "outputId": "62063c23-a5a2-4ec0-b7b9-142ad48af205"
      },
      "execution_count": null,
      "outputs": [
        {
          "output_type": "stream",
          "name": "stdout",
          "text": [
            "Snowden: Herói ou vilão\n"
          ]
        }
      ]
    },
    {
      "cell_type": "code",
      "source": [
        "class Filme:\n",
        "\n",
        "  def __init__(self, n, i, duracao):\n",
        "\n",
        "    self.name = n\n",
        "    self.year = i\n",
        "    self.duracao = duracao\n",
        "\n",
        "\n",
        "class Serie:\n",
        "\n",
        "  def __init__(self, n, i, seasons):\n",
        "\n",
        "    self.name = n\n",
        "    self.year = i\n",
        "    self.seasons = seasons\n",
        "\n",
        "snowden = Filme('Snowden: Herói ou vilão', 2018, 160)\n",
        "print(snowden.name)\n",
        "\n",
        "blackMirror = Serie('BlackMirror', 2018, 2)\n",
        "print( f'Nome: {blackMirror.name} - Ano: {blackMirror.year} - Temporadas: {blackMirror.seasons} ')"
      ],
      "metadata": {
        "colab": {
          "base_uri": "https://localhost:8080/"
        },
        "id": "_dyLfOiMfUE8",
        "outputId": "0c0cc5e5-d9db-46a2-c5b1-fb835cec9b1b"
      },
      "execution_count": null,
      "outputs": [
        {
          "output_type": "stream",
          "name": "stdout",
          "text": [
            "Snowden: Herói ou vilão\n",
            "Nome: BlackMirror - Ano: 2018 - Temporadas: 2 \n"
          ]
        }
      ]
    },
    {
      "cell_type": "code",
      "source": [
        "class Filme:\n",
        "  def __init__(self, nome, ano, duracao):\n",
        "\n",
        "    self.name = nome\n",
        "    self.year = ano \n",
        "    self.duration = duracao\n",
        "\n",
        "\n",
        "class Serie:\n",
        "  def __init__(self, nome, ano, temporadas):\n",
        "\n",
        "    self.name = nome\n",
        "    self.year = ano\n",
        "    self.seasons = temporadas\n",
        "\n",
        "\n",
        "snowden = Filme('Snowden: Herói ou vilão', 2018, 160)\n",
        "print(f'Nome:{snowden.name} - Ano:{snowden.year} - Duração:{snowden.duration} min')\n",
        "\n",
        "blackMirror = Serie('BlackMirror', 2018, 2)\n",
        "print(f'Nome:{blackMirror.name} - Ano: {blackMirror.year} - Temporadas: {blackMirror.seasons}')\n"
      ],
      "metadata": {
        "colab": {
          "base_uri": "https://localhost:8080/"
        },
        "id": "7Q7ZVhdVg6ds",
        "outputId": "d60223c4-390a-4a96-bbc7-c6e9366c0d6a"
      },
      "execution_count": null,
      "outputs": [
        {
          "output_type": "stream",
          "name": "stdout",
          "text": [
            "Nome:Snowden: Herói ou vilão - Ano:2018 - Duração:160 min\n",
            "Nome:BlackMirror - Ano: 2018 - Temporadas: 2\n"
          ]
        }
      ]
    },
    {
      "cell_type": "code",
      "source": [
        "class Filme:\n",
        "  def __init__(self, nome, ano, duracao):\n",
        "\n",
        "    self.name = nome.capitalize()\n",
        "    self.year = ano\n",
        "    self.duration = duracao\n",
        "\n",
        "class Filme:\n",
        "  def __init__(self, nome, ano, duracao):\n",
        "\n",
        "    self.name = nome.title()\n",
        "    self.year = ano\n",
        "    self.duration = duracao\n",
        "\n",
        "class Serie:\n",
        "   def __init__(self, nome, ano, temporadas):\n",
        "\n",
        "     self.name = nome.title()\n",
        "     self.year = ano\n",
        "     self.seasons = temporadas"
      ],
      "metadata": {
        "id": "SxN3htCliTrY"
      },
      "execution_count": null,
      "outputs": []
    },
    {
      "cell_type": "code",
      "source": [
        "# IMPLEMENTANDO "
      ],
      "metadata": {
        "id": "0wkI13iVjpca"
      },
      "execution_count": null,
      "outputs": []
    },
    {
      "cell_type": "code",
      "source": [
        "class Filme:\n",
        "  def __init__(self, nome, ano, duracao):\n",
        "\n",
        "    self.name = nome.title()\n",
        "    self.year = ano \n",
        "    self.duration = duracao\n",
        "\n",
        "  def dar_like(self):\n",
        "    self.likes += 1  "
      ],
      "metadata": {
        "id": "aI3X_eyBjsWQ"
      },
      "execution_count": null,
      "outputs": []
    },
    {
      "cell_type": "code",
      "source": [
        "class Filme:\n",
        "  def __init__(self, nome, ano, duracao):\n",
        "\n",
        "    self.name = nome.title()\n",
        "    self.year = ano\n",
        "    self.duration = duracao\n",
        "    \n",
        "    self.likes = 0\n",
        "\n",
        "  def dar_like( self):\n",
        "    self.likes += 1\n",
        "\n",
        "\n",
        "class Serie:\n",
        "  def __init__(self,nome, ano, temporadas):\n",
        "\n",
        "    self.name = nome.title()\n",
        "    self.year = ano\n",
        "    self.seasons = temporadas\n",
        "    \n",
        "    self.likes = 0\n",
        "\n",
        "  def dar_like(self):\n",
        "    self.likes =+1 \n",
        "\n",
        "\n"
      ],
      "metadata": {
        "id": "DskwcdwUkHW1"
      },
      "execution_count": null,
      "outputs": []
    },
    {
      "cell_type": "code",
      "source": [
        "snowden = Filme('Sonwden: Herói ou vilão', 2018, 160)\n",
        "print(f'Nome: {snowden.name} - Ano:{snowden.year} - Duração: {snowden.duration}min')\n",
        "\n",
        "blackMirror = Serie('BlackMirror', 2018, 2)\n",
        "print(f'Nome: {blackMirror.name} - Ano: {blackMirror.year} - Temporadas:{blackMirror.seasons} - Likes: {blackMirror.likes}')"
      ],
      "metadata": {
        "id": "3oM4ROeplVaY",
        "colab": {
          "base_uri": "https://localhost:8080/"
        },
        "outputId": "8f66fa11-41da-4a40-acd8-a8a5354e2dc1"
      },
      "execution_count": null,
      "outputs": [
        {
          "output_type": "stream",
          "name": "stdout",
          "text": [
            "Nome: Sonwden: Herói Ou Vilão - Ano:2018 - Duração: 160min\n",
            "Nome: Blackmirror - Ano: 2018 - Temporadas:2 - Likes: 0\n"
          ]
        }
      ]
    },
    {
      "cell_type": "code",
      "source": [
        "blackMirror = Serie('BlackMirror', 2018, 2)\n",
        "\n",
        "blackMirror.name = 'BlackMirror'\n",
        "blackMirror.dar_like()\n",
        "blackMirror.dar_like()\n",
        "print(f'Nome: {blackMirror.name} - Ano: {blackMirror.year}'\n",
        "f'- Temporadas: {blackMirror.seasons} - Likes: {blackMirror.likes}')\n"
      ],
      "metadata": {
        "id": "XE9U3bu3m19C",
        "colab": {
          "base_uri": "https://localhost:8080/"
        },
        "outputId": "33543d02-84d0-4a12-fa2f-04497a06dbd2"
      },
      "execution_count": null,
      "outputs": [
        {
          "output_type": "stream",
          "name": "stdout",
          "text": [
            "Nome: BlackMirror - Ano: 2018- Temporadas: 2 - Likes: 1\n"
          ]
        }
      ]
    },
    {
      "cell_type": "code",
      "source": [
        "class Filme:\n",
        "  def __init__(self, nome, ano, duracao):\n",
        "\n",
        "    self.name = nome.title()\n",
        "    self.year = ano\n",
        "    self.duration = duracao \n",
        "    self.likes = 0\n",
        "\n",
        "  def dar_likes(self):\n",
        "    self.likes += 1"
      ],
      "metadata": {
        "id": "tgZsvu3_Nh6y"
      },
      "execution_count": null,
      "outputs": []
    },
    {
      "cell_type": "code",
      "source": [
        "class Filme:\n",
        "\n",
        "  def __init__(self, nome , ano , duracao):\n",
        "    self.__name = nome.title()\n",
        "    self.year = ano\n",
        "    self.duration = duracao\n",
        "    self.__likes = 0\n",
        "\n",
        "  def dar_likes(self):\n",
        "    self.likes +=1  "
      ],
      "metadata": {
        "id": "oV9Pa6BXPH2Q"
      },
      "execution_count": null,
      "outputs": []
    },
    {
      "cell_type": "code",
      "source": [
        "class Serie:\n",
        "  def __init__(self, nome, ano, temporadas):\n",
        "    self.__name = nome.title()\n",
        "    self.year = ano\n",
        "    self.seasons = temporadas\n",
        "    self.__likes = 0\n",
        "\n",
        "  def dar_likes(self):\n",
        "    self.likes +=1"
      ],
      "metadata": {
        "id": "wE-32DitPjxO"
      },
      "execution_count": null,
      "outputs": []
    },
    {
      "cell_type": "code",
      "source": [
        "blackMirror = Serie('blackMirror', 2018, 2)\n",
        "\n",
        "blackMirror.name = 'blackMirror'\n",
        "blackMirror.dar_likes()\n",
        "blackMirror.dar_likes()\n",
        "\n",
        "print(f'Nome: {blackMirror.name} - Ano: {blackMirror.year} '\n",
        " f'- Temporadas: {blackMirror.seasons} - Likes: {blackMirror.likes}')"
      ],
      "metadata": {
        "id": "8xxksKRaQW7-"
      },
      "execution_count": null,
      "outputs": []
    },
    {
      "cell_type": "code",
      "source": [
        "class Serie:\n",
        "  def __init__(self, nome, ano, temporadas ):\n",
        "\n",
        "    self.__name = nome.title()\n",
        "    self.year = ano\n",
        "    self.seasons = temporadas\n",
        "    self.__likes = 0\n",
        "\n",
        "  @property\n",
        "  def likes(self):\n",
        "    return self.__likes\n",
        "\n",
        "  def dar_like(self):\n",
        "    self.__likes +=1  "
      ],
      "metadata": {
        "id": "VadbmTI3S9IB"
      },
      "execution_count": null,
      "outputs": []
    },
    {
      "cell_type": "code",
      "source": [
        "def dar_likes(self):\n",
        "  self.__likes += 1\n",
        "\n",
        "@property\n",
        "\n",
        "def nome(self):\n",
        "  return self.__nome"
      ],
      "metadata": {
        "id": "_K2Z4BhlUnj6"
      },
      "execution_count": null,
      "outputs": []
    },
    {
      "cell_type": "code",
      "source": [
        "@property\n",
        "\n",
        "def nome(self):\n",
        "  return self.__name\n",
        "\n",
        "@nome.setter\n",
        "def nome(self, novo_nome):\n",
        "\n",
        "\n",
        " @nome.setter\n",
        " def nome( self, novo_nome):\n",
        "  self.__nome = novo_nome.title() "
      ],
      "metadata": {
        "id": "VS6H6baiU9ed"
      },
      "execution_count": null,
      "outputs": []
    },
    {
      "cell_type": "code",
      "source": [
        "# PARTE 2"
      ],
      "metadata": {
        "id": "k4Hgi31OWz67"
      },
      "execution_count": null,
      "outputs": []
    },
    {
      "cell_type": "code",
      "source": [
        "# DEFININDO LIMITAÇÕES PARA CPF"
      ],
      "metadata": {
        "id": "h3m2ukg9W2i9"
      },
      "execution_count": null,
      "outputs": []
    },
    {
      "cell_type": "code",
      "source": [
        "class Pessoa:\n",
        "  tamanho_cpf = 11\n",
        "\n",
        "  def __init__(self, cpf, nome):\n",
        "\n",
        "    self.cpf = cpf\n",
        "    self.nome = nome\n",
        "\n",
        "  def valida_cpf(self):\n",
        "    return True if len(self.cpf) == __class__.tamanho_cpf else False\n",
        "    "
      ],
      "metadata": {
        "id": "K1wPzGJCW7dt"
      },
      "execution_count": null,
      "outputs": []
    },
    {
      "cell_type": "code",
      "source": [
        "pe = Pessoa('00000000001', 'Yuzuchi')\n",
        "print(pe.valida_cpf())\n",
        "\n",
        "pe = Pessoa('0000000000', 'Camila')\n",
        "print(pe.valida_cpf())"
      ],
      "metadata": {
        "colab": {
          "base_uri": "https://localhost:8080/"
        },
        "id": "KbL7TblJXhe1",
        "outputId": "e477bcde-b2c9-44ba-c929-c13925404124"
      },
      "execution_count": null,
      "outputs": [
        {
          "output_type": "stream",
          "name": "stdout",
          "text": [
            "True\n",
            "False\n"
          ]
        }
      ]
    },
    {
      "cell_type": "code",
      "source": [
        "class Pessoa:\n",
        "  tamanho_cpf = 11\n",
        "\n",
        "p = Pessoa()\n",
        "print(p.tamanho_cpf)\n",
        "\n",
        "p.tamanho_cpf = 12\n",
        "print(p.tamanho_cpf)\n",
        "\n",
        "print(Pessoa.tamanho_cpf)\n"
      ],
      "metadata": {
        "id": "519OWsaOY4Gp"
      },
      "execution_count": null,
      "outputs": []
    },
    {
      "cell_type": "code",
      "source": [
        "class Filme:\n",
        "\n",
        "  def __init__(self, nome, ano, duracao):\n",
        "    self.__nome = nome.title()\n",
        "    self.year = ano\n",
        "    self.duration = duracao\n",
        "    self.__likes = 0\n",
        "\n",
        "@property\n",
        "def likes(self):\n",
        "  return self.__likes\n",
        "\n",
        "def dar_likes(self):\n",
        "  self.__likes += 1\n",
        "\n",
        "@property\n",
        "def nome(self):\n",
        "  return self.__nome\n",
        "\n",
        "@nome.setter\n",
        "def nome(self, novo_nome):\n",
        "  self.__nome = novo_nome.title()\n",
        "\n",
        "\n",
        "class Serie:\n",
        "  def __init__(self, nome, ano, temporadas):\n",
        "    self.__nome = nome.title()\n",
        "    self.year = ano\n",
        "    self.seasons = temporadas\n",
        "    self.__likes = 0\n",
        "\n",
        "@property\n",
        "def likes(self):\n",
        "  return self.__likes\n",
        "\n",
        "def dar_likes( self ):\n",
        "  self.__likes += 1\n",
        "\n",
        "@property\n",
        "def nome (self):\n",
        "  return self.__nome\n",
        "\n",
        "@nome.setter\n",
        "def nome ( self, novo_nome):\n",
        "  self.__nome = novo_nome.title()\n"
      ],
      "metadata": {
        "id": "i5RNGLFSbstk"
      },
      "execution_count": null,
      "outputs": []
    },
    {
      "cell_type": "code",
      "source": [
        "vingadores = Filme('vingadores - guerra infinita', 2018, 160)"
      ],
      "metadata": {
        "id": "XuzpZPXohRZQ"
      },
      "execution_count": null,
      "outputs": []
    },
    {
      "cell_type": "code",
      "source": [
        "print(vingadores.nome)\n"
      ],
      "metadata": {
        "id": "Fnb_Gux4jmke"
      },
      "execution_count": null,
      "outputs": []
    },
    {
      "cell_type": "code",
      "source": [
        "atlanta = Serie('atlanta', 2018, 2)\n",
        "print(f'Nome: {atlanta.nome} - Ano: {atlanta.year} ')"
      ],
      "metadata": {
        "id": "odJHOdwciQUr"
      },
      "execution_count": null,
      "outputs": []
    }
  ]
}