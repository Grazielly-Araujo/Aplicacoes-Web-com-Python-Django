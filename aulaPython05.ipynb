{
  "nbformat": 4,
  "nbformat_minor": 0,
  "metadata": {
    "colab": {
      "provenance": [],
      "collapsed_sections": [],
      "authorship_tag": "ABX9TyONNEg43p5U03hVySJ/GRwT",
      "include_colab_link": true
    },
    "kernelspec": {
      "name": "python3",
      "display_name": "Python 3"
    },
    "language_info": {
      "name": "python"
    }
  },
  "cells": [
    {
      "cell_type": "markdown",
      "metadata": {
        "id": "view-in-github",
        "colab_type": "text"
      },
      "source": [
        "<a href=\"https://colab.research.google.com/github/Grazielly-Araujo/Aplicacoes-Web-com-Python-Django/blob/main/aulaPython05.ipynb\" target=\"_parent\"><img src=\"https://colab.research.google.com/assets/colab-badge.svg\" alt=\"Open In Colab\"/></a>"
      ]
    },
    {
      "cell_type": "code",
      "execution_count": null,
      "metadata": {
        "id": "8atXx366vAaR"
      },
      "outputs": [],
      "source": [
        "# MÉTODOS E FUNÇÕES EM PYTHON"
      ]
    },
    {
      "cell_type": "code",
      "source": [
        "\"\"\" APPEND() COUNT() INSERT() POP() REMOVE() SORT() \n",
        "\n",
        "MÉTODOS \n",
        "\n",
        "PARA CONHECER OS MÉTODOS VOCÊ PODE UTILIZAR A FUNÇÃO HELP:\n",
        "HELP(LISTA.APPEND) E O PYTHON TE RETORNA O QUE ESTE MÉTODO FAZ NO TEU PROJETO\"\"\""
      ],
      "metadata": {
        "colab": {
          "base_uri": "https://localhost:8080/",
          "height": 53
        },
        "id": "IIZ08Esf4LMr",
        "outputId": "00e2833c-eac5-449b-c75c-47b150499011"
      },
      "execution_count": null,
      "outputs": [
        {
          "output_type": "execute_result",
          "data": {
            "text/plain": [
              "' APPEND() COUNT() INSERT() POP() REMOVE() SORT() \\n\\nMÉTODOS \\n\\nPARA CONHECER OS MÉTODOS VOCÊ PODE UTILIZAR A FUNÇÃO HELP:\\nHELP(LISTA.APPEND) E O PYTHON TE RETORNA O QUE ESTE MÉTODO FAZ NO TEU PROJETO'"
            ],
            "application/vnd.google.colaboratory.intrinsic+json": {
              "type": "string"
            }
          },
          "metadata": {},
          "execution_count": 2
        }
      ]
    },
    {
      "cell_type": "code",
      "source": [
        "\"\"\"LISTA[]\n",
        "HELP(LISTA.APPED)\n",
        "\n",
        "\n",
        "PARA LISTAR TODOS OS MÉTODOS E ATRIBUTOS DE UM OBJETO BASTA UTILIZAR O DIR, EX:\n",
        "DIR(LIST)\"\"\""
      ],
      "metadata": {
        "colab": {
          "base_uri": "https://localhost:8080/",
          "height": 36
        },
        "id": "wh9MX4_q46oy",
        "outputId": "b79bb0d4-230e-4602-c9d9-fb22b21c060c"
      },
      "execution_count": null,
      "outputs": [
        {
          "output_type": "execute_result",
          "data": {
            "text/plain": [
              "'LISTA[]\\nHELP(LISTA.APPED)\\n\\n\\nPARA LISTAR TODOS OS MÉTODOS E ATRIBUTOS DE UM OBJETO BASTA UTILIZAR O DIR, EX:\\nDIR(LIST)'"
            ],
            "application/vnd.google.colaboratory.intrinsic+json": {
              "type": "string"
            }
          },
          "metadata": {},
          "execution_count": 3
        }
      ]
    },
    {
      "cell_type": "code",
      "source": [
        "\"\"\" SINTAXE:\n",
        "\n",
        "DEF nomeDaFuncao(arg1, arg2, etc..):\n",
        "bloco de comandos\n",
        "return(retorno desejado)\n",
        "\"\"\""
      ],
      "metadata": {
        "colab": {
          "base_uri": "https://localhost:8080/",
          "height": 36
        },
        "id": "rNLoz9K05f8i",
        "outputId": "544c4713-4bfc-4762-dff6-7e0a5097b52b"
      },
      "execution_count": null,
      "outputs": [
        {
          "output_type": "execute_result",
          "data": {
            "text/plain": [
              "' SINTAXE:\\n\\nDEF nomeDaFuncao(arg1, arg2, etc..):\\nbloco de comandos\\nreturn(retorno desejado)\\n'"
            ],
            "application/vnd.google.colaboratory.intrinsic+json": {
              "type": "string"
            }
          },
          "metadata": {},
          "execution_count": 4
        }
      ]
    },
    {
      "cell_type": "code",
      "source": [
        "# ORIENTAÇÃO A OBJETOS"
      ],
      "metadata": {
        "id": "ucejNDUT66O0"
      },
      "execution_count": null,
      "outputs": []
    },
    {
      "cell_type": "code",
      "source": [
        "\"\"\" OBJETOS : LISTAS, VARIÁVEIS...\n",
        "\n",
        "-> CADA ONJETO TEM SEUS MÉTODOS.\n",
        "\n",
        "\"\"\""
      ],
      "metadata": {
        "colab": {
          "base_uri": "https://localhost:8080/",
          "height": 36
        },
        "id": "V_3ulFPQ7I6K",
        "outputId": "589560d9-7af9-4cd3-dac0-eb878806bcd5"
      },
      "execution_count": null,
      "outputs": [
        {
          "output_type": "execute_result",
          "data": {
            "text/plain": [
              "' OBJETOS : LISTAS, VARIÁVEIS...\\n\\n-> CADA ONJETO TEM SEUS MÉTODOS.\\n\\n'"
            ],
            "application/vnd.google.colaboratory.intrinsic+json": {
              "type": "string"
            }
          },
          "metadata": {},
          "execution_count": 6
        }
      ]
    },
    {
      "cell_type": "code",
      "source": [
        "# CLASSES"
      ],
      "metadata": {
        "id": "PhH9looz8eNR"
      },
      "execution_count": null,
      "outputs": []
    },
    {
      "cell_type": "code",
      "source": [
        "\"\"\" UMA CLASSE OFERECE OS SERVIÇOS OFERECIDOS POR\n",
        "SEUS OBJETOS  E QUAIS INFORMAÇOES ELES PODEM ARMAZENAR\n",
        "\n",
        "INSTÂNCIAS\"\"\""
      ],
      "metadata": {
        "colab": {
          "base_uri": "https://localhost:8080/",
          "height": 36
        },
        "id": "nCSHo9_u9Y5h",
        "outputId": "3ce904cc-35fc-45ce-e369-c43a741f3407"
      },
      "execution_count": null,
      "outputs": [
        {
          "output_type": "execute_result",
          "data": {
            "text/plain": [
              "' UMA CLASSE OFERECE OS SERVIÇOS OFERECIDOS POR\\nSEUS OBJETOS  E QUAIS INFORMAÇOES ELES PODEM ARMAZENAR\\n\\nINSTÂNCIAS'"
            ],
            "application/vnd.google.colaboratory.intrinsic+json": {
              "type": "string"
            }
          },
          "metadata": {},
          "execution_count": 8
        }
      ]
    },
    {
      "cell_type": "code",
      "source": [
        "class NomeDeCLasse():\n",
        "\n",
        "  #construtor da classe\n",
        "  \n",
        "  def __init__(self):\n",
        "  \n",
        "    #atributos\n",
        "  \n",
        "    self.atributo1 = valor1\n",
        "    self.atributoN = valorN\n",
        "\n",
        "  def exemploDeFuncao(self):\n",
        "    return \"essa é uma função!\"\n",
        "\n",
        "  def exemploDeMetodo(self):\n",
        "    print(\"Esse é um método!\")  \n",
        "\n",
        "\n"
      ],
      "metadata": {
        "id": "qdGt6MaO-8gx"
      },
      "execution_count": null,
      "outputs": []
    },
    {
      "cell_type": "code",
      "source": [
        "class ContaCorrente():\n",
        "\n",
        "  def __init__(self):\n",
        "    self.numConta = 159                      #EXEMPLO 01\n",
        "    self.nomeTitular = \"Jovena\"\n",
        "    self.saldo = 0\n",
        "\n",
        "  def __init__(self,numConta, nomeTitular):\n",
        "    self.numConta= numConta                   #EXEMPLO 02\n",
        "    self.nomeTitular = nomeTitular\n",
        "\n",
        "  def __init__(self, numConta, nomeTitular, saldo):\n",
        "    self.numConta = numConta                     #EXEMPLO 03\n",
        "    self.nomeTitular = nomeTitular\n",
        "    self.saldo = saldo\n"
      ],
      "metadata": {
        "id": "N7iLt07GAdlB"
      },
      "execution_count": null,
      "outputs": []
    },
    {
      "cell_type": "code",
      "source": [
        "class Lar():\n",
        "\n",
        "  def toctoc( self, pessoa1= None, pessoa2= None):\n",
        "\n",
        "    if pessoa1 is not None  and pessoa2 is None:\n",
        "      print(\"Olá\", + pessoa1)\n",
        "\n",
        "    elif pessoa1 is not None and pessoa2 is not None:\n",
        "      print( \"Olá,\" + pessoa1 + \"e\" + pessoa2)  \n",
        "\n",
        "    else:\n",
        "      print(\"Quem está aí?\")  \n",
        "\n",
        "batendoNaPorta = Lar()\n",
        "\n"
      ],
      "metadata": {
        "id": "XsWx4OsyDJ45"
      },
      "execution_count": null,
      "outputs": []
    },
    {
      "cell_type": "code",
      "source": [
        "#SOBRECARGA DO MÉTODO TOCTOC\n",
        "\n",
        "\"\"\"batendoNaPorta.toctoc()\n",
        "batendoNaPorta.toctoc('Ricky', \"Morty\")\n",
        "batendoNaPorta.toctoc(\"professora Amanda\")\"\"\""
      ],
      "metadata": {
        "colab": {
          "base_uri": "https://localhost:8080/",
          "height": 36
        },
        "id": "FfsGdSOKGV_Y",
        "outputId": "8f6f99ce-e3d7-4752-d1c3-624512d4944f"
      },
      "execution_count": null,
      "outputs": [
        {
          "output_type": "execute_result",
          "data": {
            "text/plain": [
              "'batendoNaPorta.toctoc()\\nbatendoNaPorta.toctoc(\\'Ricky\\', \"Morty\")\\nbatendoNaPorta.toctoc(\"professora Amanda\")'"
            ],
            "application/vnd.google.colaboratory.intrinsic+json": {
              "type": "string"
            }
          },
          "metadata": {},
          "execution_count": 12
        }
      ]
    },
    {
      "cell_type": "code",
      "source": [
        "# CRIANDO UMA CLASSE\n",
        "\n",
        "class Animal():\n",
        "\n",
        "# CONTRUTOR DA CLASSE\n",
        "  \n",
        "  def __init__( self, name, weight, color):\n",
        "\n",
        "    # ATRIBUTOS\n",
        "\n",
        "    self.nome = name\n",
        "    self.peso = weight\n",
        "    self.corDoPelo = color\n",
        "\n",
        "  def imprimirDados(Self):\n",
        "    return(\"Nome: %s \\nPeso: %s\" %(self.nome, self.peso))\n",
        "\n",
        "  def latir( self, barulho):\n",
        "    print(barulho)"
      ],
      "metadata": {
        "id": "Dug04osoHwXP"
      },
      "execution_count": null,
      "outputs": []
    },
    {
      "cell_type": "code",
      "source": [
        "# INSTANCIANDO UM OBJETO CACHORRO \n",
        "\n",
        "\n",
        "caozinho = Animal(\"Marlene\", 7.9, \"Caramelo\")\n",
        "gato = Animal(\"Cibele\", 4.5, \"Cinza\")\n",
        "\n",
        "# CHAMANDO O MÉTODO DO OBJETO CRIADO\n",
        "\n",
        "print(caozinho.imprimirDados())\n",
        "caozinho.latir(\"Au, au!\")\n",
        "\n",
        "print(gato.imprimirDados())\n",
        "gato.latir(\"Miau!\")"
      ],
      "metadata": {
        "id": "YXy4Xw3_KnYH"
      },
      "execution_count": null,
      "outputs": []
    },
    {
      "cell_type": "code",
      "source": [
        "# CRIANDO UMA CLASSE CHAMADA LIVRO\n",
        "\n",
        "class Livro():\n",
        "  \n",
        "# ESTE MÉTODO VAI INICIALIZAR CADA OBJETO CRIADO A PARTIR DESTA CLASSE\n",
        "# O NOME DESTE MÉTODO É __INIT__\n",
        "# (SELF) É UMA REFERÊNCIA A CADA ATRIBUTO DE UM OBJETO CRIADO A PARTIR DESTA CLASSE\n",
        "\n",
        "def __init__(self):\n",
        "\n",
        "# ATRIBUTOS DE CADA OBJETO CRIADO A PARTIR DESRTA CLASSE\n",
        "#O SELF INDICA QUE ESTES SÃO ATRIBUTOS DOS OBJETOS\n",
        "\n",
        "  self.titulo = 'O Monge e o Executivo'\n",
        "  self.isbn = 9988888\n",
        "  print(\"Contrutor chamado para criar um objeto desta classe\")\n",
        "\n",
        "# MÉTODOS SÃO FUNÇÕES, QUE RECEBEM COMO PARÂMETRO ATRIBUTOS DO OBJETO CRIADO\n",
        "\n",
        "def imprime(self):\n",
        "  print( \"Foi criado o livro %s e ISBN %d\" %(self.titulo, self.isbn))\n",
        "  "
      ],
      "metadata": {
        "id": "h3xgC5JKPbKv"
      },
      "execution_count": null,
      "outputs": []
    },
    {
      "cell_type": "code",
      "source": [
        "# CRIANDO UMA INSTÂNCIA DA CLASSE LIVRO\n",
        "\n",
        "Livro1 = Livro()"
      ],
      "metadata": {
        "id": "MkdLbGplSBQ2"
      },
      "execution_count": null,
      "outputs": []
    },
    {
      "cell_type": "code",
      "source": [
        "# TIPO DO OBJETO LIVRO1\n",
        "\n",
        "type(Livro1)\n"
      ],
      "metadata": {
        "id": "dIlIbrb6SNgu"
      },
      "execution_count": null,
      "outputs": []
    },
    {
      "cell_type": "code",
      "source": [
        "# ATRIBUTO DO OBJETO LIVRO1\n",
        "Livro1.titulo"
      ],
      "metadata": {
        "id": "W8ogqC9PUAeN"
      },
      "execution_count": null,
      "outputs": []
    },
    {
      "cell_type": "code",
      "source": [
        "# MÉTODO DO OBJETO LIVRO1\n",
        "\n",
        "Livro1.imprime()"
      ],
      "metadata": {
        "id": "aCyMwhPQUJP9"
      },
      "execution_count": null,
      "outputs": []
    },
    {
      "cell_type": "code",
      "source": [
        "# CRIANDO A CLASSE LIVRO COM PARÂMETROS NO MÉTODO CONSTRUTOR\n",
        "\n",
        "class Livro():\n",
        "  def __init__(self, titulo, isbn):\n",
        "\n",
        "    self.titulo = titulo \n",
        "    self.isbn = isbn \n",
        "    print(\"Construtor chamado para criar um objeto desta classe\")\n",
        "\n",
        "  def imprime( self, titulo, isbn):\n",
        "    print(\"este é o livro %s e ISBN %d\" %(titulo, isbn))  "
      ],
      "metadata": {
        "id": "gXszTasaUmP1"
      },
      "execution_count": null,
      "outputs": []
    },
    {
      "cell_type": "code",
      "source": [
        "# CRIANDO O OBJETO LIVRO2 QUE É UMA INSTÂNCIA DA CLASSE LIVRO\n",
        "Livro2 = Livro(\" A Menina que Roubava Livros\", 77886611)"
      ],
      "metadata": {
        "id": "XD7AqpaEVrjt"
      },
      "execution_count": null,
      "outputs": []
    },
    {
      "cell_type": "code",
      "source": [
        "# CRIANDO A CLASSE ANIMAL - SUPER-CLASSE\n",
        "class Animal():\n",
        "  def __init__(self):\n",
        "    print(\"Animal criado\")\n",
        "\n",
        "  def Identif(self):\n",
        "    print(\"Animal\")  \n",
        "\n",
        "  def comer(self):\n",
        "    print(\"comendo\")\n",
        "    "
      ],
      "metadata": {
        "id": "yBee1xCHXgON"
      },
      "execution_count": null,
      "outputs": []
    },
    {
      "cell_type": "code",
      "source": [
        "# CRIANDO CLASSE CACHORRO - SUB-CLASSE\n",
        "\n",
        " class Cachorro(Animal):\n",
        "\n",
        "   def __init__(self):\n",
        "     Animal.__init__(self)\n",
        "     print(\"objeto Cachorro criado\")\n",
        "  \n",
        "  def identif(self):\n",
        "     print('cachorro')\n",
        "\n",
        "  def latir(self):\n",
        "     print(\"Au, Au!\")  "
      ],
      "metadata": {
        "id": "LBcySsgtYXNF"
      },
      "execution_count": null,
      "outputs": []
    },
    {
      "cell_type": "code",
      "source": [
        "# CRIANDO UM OBJETO (INSTANCIANDO A CLASSE)\n",
        "\n",
        "rex = Cachorro()"
      ],
      "metadata": {
        "id": "9wOrhoGpchX1"
      },
      "execution_count": null,
      "outputs": []
    },
    {
      "cell_type": "code",
      "source": [
        "# EXECUTANDO O MÉTODO DA CLASSE CACHORRO( SUB-CLASSE )\n",
        "rex.identif()"
      ],
      "metadata": {
        "id": "BcDuMC4-cr9E"
      },
      "execution_count": null,
      "outputs": []
    },
    {
      "cell_type": "code",
      "source": [
        "# EXECUTANDO O MÉTODO DA CLASSE ANIMAL (SUPER-CLASSE)\n",
        "rex.comer()"
      ],
      "metadata": {
        "id": "cKgdIip9c3jD"
      },
      "execution_count": null,
      "outputs": []
    },
    {
      "cell_type": "code",
      "source": [
        "#  EXECUTANDO O MÉTODO DA CLASSE CACHORRO (SUB-CLASSE)\n",
        "rex.latir()"
      ],
      "metadata": {
        "id": "o2ELLNQXc4ES"
      },
      "execution_count": null,
      "outputs": []
    },
    {
      "cell_type": "code",
      "source": [
        "#HERANÇAS - SINTAXE\n",
        "\n",
        "class ClasseMae():\n",
        "  \n",
        "  def __init__(self, atributo1):\n",
        "    self.atributo1 = atributo1   #CONTRUTOR MÃE\n",
        "    print(\"Essa é a Classe Mãe!\")\n",
        "\n",
        "class ClasseFilha(ClasseMae):\n",
        "\n",
        "  def __init__(self, atributo1, atributo2):  #CONSTRUTOR HERDEIRA\n",
        "    super().__init__(atributo1)\n",
        "    self.atributo2 = atributo2\n",
        "    print(\"Essa é a Classe Filha!\")"
      ],
      "metadata": {
        "id": "KnKT3-x-Znuo"
      },
      "execution_count": null,
      "outputs": []
    },
    {
      "cell_type": "code",
      "source": [
        "\"\"\" PRÁTICA 01 - CRIE UMA CLASSE PESSOA COM OS ATRIBUTOS NOME E IDADE;\n",
        "IMPLEMENTE UMA FUNÇÃO CAPAZ DE RETORNAR O ANO QUE A PESSO NASCEU UTILIZANDO \n",
        "APENAS O VALOR REFERENTE A IDADE;\n",
        "CRIE UMA LISTA QUE ARMAZENE 5 PESSOAS, PERCORRA A LISTA E MOSTRE NA TELA \n",
        "TODOS OS DADOS DE FORMA ORGANIZADA.\"\"\""
      ],
      "metadata": {
        "id": "lBQ7P0cNeoQ8"
      },
      "execution_count": null,
      "outputs": []
    },
    {
      "cell_type": "code",
      "source": [
        "class Pessoa():\n",
        "\n",
        "  def __init__(self, nome, idade):\n",
        "    self.nome = nome\n",
        "    self.idade = idade\n",
        "\n",
        "  def nascimento(self, idade):\n",
        "    return(2022 - idade)"
      ],
      "metadata": {
        "id": "G9cg9Fo4alUt"
      },
      "execution_count": null,
      "outputs": []
    },
    {
      "cell_type": "code",
      "source": [
        "pessoa1 = pessoa('matheus', 23)\n",
        "\n",
        "pessoa1.nome\n",
        "possoa1.idade\n",
        "pessoa1.nascimento(23)"
      ],
      "metadata": {
        "id": "8FoxzzfrfFaQ"
      },
      "execution_count": null,
      "outputs": []
    },
    {
      "cell_type": "code",
      "source": [
        "lista = []\n",
        "for p in range(5):\n",
        "   \n",
        "  nome = str(input (\"Informe seu nome: \"))\n",
        "  idade = str( input ( \"Informe sua idade: \"))\n",
        "  pessoa = pessoa(nome, idade)\n",
        "  lista.append(pessoa)\n",
        "\n",
        "for obj in range(len(lista)):\n",
        "  print(\"Nome: %s,  Idade: %d\" %(lista[obj].nome , lista[obj].idade))  "
      ],
      "metadata": {
        "id": "tq0bv9QIboii"
      },
      "execution_count": null,
      "outputs": []
    }
  ]
}