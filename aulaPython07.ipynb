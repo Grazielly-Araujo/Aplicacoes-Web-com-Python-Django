{
  "nbformat": 4,
  "nbformat_minor": 0,
  "metadata": {
    "colab": {
      "provenance": [],
      "collapsed_sections": [],
      "authorship_tag": "ABX9TyN+ASgR6LAZrU8gr4sbUOWw",
      "include_colab_link": true
    },
    "kernelspec": {
      "name": "python3",
      "display_name": "Python 3"
    },
    "language_info": {
      "name": "python"
    }
  },
  "cells": [
    {
      "cell_type": "markdown",
      "metadata": {
        "id": "view-in-github",
        "colab_type": "text"
      },
      "source": [
        "<a href=\"https://colab.research.google.com/github/Grazielly-Araujo/Aplicacoes-Web-com-Python-Django/blob/main/aulaPython07.ipynb\" target=\"_parent\"><img src=\"https://colab.research.google.com/assets/colab-badge.svg\" alt=\"Open In Colab\"/></a>"
      ]
    },
    {
      "cell_type": "code",
      "execution_count": null,
      "metadata": {
        "id": "HMn6G0SC6Ham"
      },
      "outputs": [],
      "source": [
        "# DJANGO"
      ]
    },
    {
      "cell_type": "code",
      "source": [
        "\"\"\" DJANGO é um Framework (ferramenta tecnologica) com função ...\"\"\""
      ],
      "metadata": {
        "id": "H1P2AK1t7SRm"
      },
      "execution_count": null,
      "outputs": []
    },
    {
      "cell_type": "code",
      "source": [
        "\"\"\" ORM: MAPEAMENTO OBJETO RELACIONAL "
      ],
      "metadata": {
        "id": "WvYTj8e98Bxv"
      },
      "execution_count": null,
      "outputs": []
    },
    {
      "cell_type": "code",
      "source": [
        "\"\"\"MTV : MODEL, TEMPLATE, VIEW"
      ],
      "metadata": {
        "id": "5O5vEcwd8skc"
      },
      "execution_count": null,
      "outputs": []
    },
    {
      "cell_type": "code",
      "source": [
        "#MODEL \n",
        "\n",
        "#É IMPLEMENTADO O BANCO DE DADOS OU O MODELO OBJETO-RELACIONAL"
      ],
      "metadata": {
        "id": "Jorsq4i99nDT"
      },
      "execution_count": null,
      "outputs": []
    },
    {
      "cell_type": "code",
      "source": [
        "#TEMPLATE:\n",
        " \n",
        " # É IMPLEMENTADO O MODO QUE A INFORMAÇÃO VAI SER APRESENTADA"
      ],
      "metadata": {
        "id": "xLb85PBT91O0"
      },
      "execution_count": null,
      "outputs": []
    },
    {
      "cell_type": "code",
      "source": [
        "#VIEW: FUNÇÃO DE RETORNO PARA UMA URL, PORQU ESTA FUNÇÃO DE RETORNO"
      ],
      "metadata": {
        "id": "VM8zQyjq966Y"
      },
      "execution_count": null,
      "outputs": []
    },
    {
      "cell_type": "code",
      "source": [
        "# PRATICA SOBRE FUNCOES"
      ],
      "metadata": {
        "id": "aMOEnNTM_ahN"
      },
      "execution_count": null,
      "outputs": []
    },
    {
      "cell_type": "code",
      "source": [
        "# exercicio 01\n",
        "produto = 0\n",
        "\n",
        "while produto < 1000:\n",
        "  print(produto)\n",
        "  produto +=1"
      ],
      "metadata": {
        "id": "BrZl7z3XJ91S"
      },
      "execution_count": null,
      "outputs": []
    },
    {
      "cell_type": "code",
      "source": [
        "def ex1(n):\n",
        "  for i in range(1, n+1):\n",
        "    print((str(i)+ \" \") * i)"
      ],
      "metadata": {
        "id": "KJpRGpCaMAJF"
      },
      "execution_count": null,
      "outputs": []
    },
    {
      "cell_type": "code",
      "source": [
        "obj1 = ex1(8)"
      ],
      "metadata": {
        "colab": {
          "base_uri": "https://localhost:8080/"
        },
        "id": "1O_73UGtMQxQ",
        "outputId": "1979e6fd-d8fe-4200-fbd7-411f62cbe7db"
      },
      "execution_count": null,
      "outputs": [
        {
          "output_type": "stream",
          "name": "stdout",
          "text": [
            "1 \n",
            "2 2 \n",
            "3 3 3 \n",
            "4 4 4 4 \n",
            "5 5 5 5 5 \n",
            "6 6 6 6 6 6 \n",
            "7 7 7 7 7 7 7 \n",
            "8 8 8 8 8 8 8 8 \n"
          ]
        }
      ]
    },
    {
      "cell_type": "code",
      "source": [
        "# exercicio 02\n",
        "\n",
        "for i in range(1,n+1):\n",
        "\n",
        "    print((str(i)+ \" \") * i)\n",
        "\n"
      ],
      "metadata": {
        "id": "5vKsUeq3NSj1"
      },
      "execution_count": null,
      "outputs": []
    },
    {
      "cell_type": "code",
      "source": [
        "def ex2(x):\n",
        "  z = []\n",
        "\n",
        "  for i in range(1, x+1):\n",
        "    z.append(i)\n",
        "   # x +=1\n",
        "    print(z)"
      ],
      "metadata": {
        "id": "Q_CDYf0DRlDH"
      },
      "execution_count": null,
      "outputs": []
    },
    {
      "cell_type": "code",
      "source": [
        "obj1 = ex2(int(input()))"
      ],
      "metadata": {
        "id": "xtD__qHCR3v1"
      },
      "execution_count": null,
      "outputs": []
    },
    {
      "cell_type": "code",
      "source": [
        "# exercicio 03:\n",
        "\n",
        "def __init__(self, n, i, a):\n",
        "  self.nome = n\n",
        "  self.idade = i \n",
        "  self.ano = a "
      ],
      "metadata": {
        "id": "V6ddpDdgTEDa"
      },
      "execution_count": null,
      "outputs": []
    },
    {
      "cell_type": "code",
      "source": [
        "def ex3 (x, y, z):\n",
        "  return x + y + z"
      ],
      "metadata": {
        "id": "7QOedPWMWngc"
      },
      "execution_count": null,
      "outputs": []
    },
    {
      "cell_type": "code",
      "source": [
        "print( ex3(15, 30, 15))"
      ],
      "metadata": {
        "colab": {
          "base_uri": "https://localhost:8080/"
        },
        "id": "fYAhl_NsW3-w",
        "outputId": "40a5219a-658e-41d7-f3f7-ce11f164318a"
      },
      "execution_count": null,
      "outputs": [
        {
          "output_type": "stream",
          "name": "stdout",
          "text": [
            "60\n"
          ]
        }
      ]
    },
    {
      "cell_type": "code",
      "source": [
        "# exercicio 04\n",
        "# faça um programa, com uma função que necessite de um argumento. A função \n",
        "#retona o valor de caractere \"P\", se seu argumento for positivo, e 'N'\n",
        "#se for zero ou negativo"
      ],
      "metadata": {
        "id": "Z8Au5KoxXKXo"
      },
      "execution_count": null,
      "outputs": []
    },
    {
      "cell_type": "code",
      "source": [
        "\n",
        "\n",
        "def ex4 (n, x):\n",
        "  return n + x"
      ],
      "metadata": {
        "id": "OEfC90ATXklQ"
      },
      "execution_count": null,
      "outputs": []
    },
    {
      "cell_type": "code",
      "source": [
        "def char(e):\n",
        "  if e > 0:\n",
        "    print('P')\n",
        "  else:\n",
        "    print('N')  "
      ],
      "metadata": {
        "id": "-CXV-oJpYHaF"
      },
      "execution_count": null,
      "outputs": []
    },
    {
      "cell_type": "code",
      "source": [
        "objchar = char(int(input('Informe um número: ')))"
      ],
      "metadata": {
        "colab": {
          "base_uri": "https://localhost:8080/"
        },
        "id": "QOGehUkeZE3p",
        "outputId": "d96ad605-f358-4ff6-b829-10db96c467cd"
      },
      "execution_count": null,
      "outputs": [
        {
          "output_type": "stream",
          "name": "stdout",
          "text": [
            "Informe um número: 12\n",
            "P\n"
          ]
        }
      ]
    },
    {
      "cell_type": "code",
      "source": [
        "# exercicio 05\n",
        "\n",
        "def somaImposto(taxaImposto, custo):\n",
        "\n",
        "  taxa=  taxaImposto/100\n",
        "  custo = custo\n",
        "  custoAlterado = (custo * taxa) + custo\n",
        "  return custoAlterado"
      ],
      "metadata": {
        "id": "Dlz7JQFkZY9f"
      },
      "execution_count": null,
      "outputs": []
    },
    {
      "cell_type": "code",
      "source": [
        "obj= somaImposto(20,100)\n",
        "print(obj)"
      ],
      "metadata": {
        "colab": {
          "base_uri": "https://localhost:8080/"
        },
        "id": "vudSyEeaceLL",
        "outputId": "a1dc8f95-e14a-4e25-b272-297a77053409"
      },
      "execution_count": null,
      "outputs": [
        {
          "output_type": "stream",
          "name": "stdout",
          "text": [
            "120.0\n"
          ]
        }
      ]
    },
    {
      "cell_type": "code",
      "source": [
        "def somaimposto(taxaimposto, custo):\n",
        "  print((0.01 * taxaimposto)*custo + custo)"
      ],
      "metadata": {
        "id": "O6Tgzvnic0xt"
      },
      "execution_count": null,
      "outputs": []
    },
    {
      "cell_type": "code",
      "source": [
        "obj2 = somaimposto(10,100)"
      ],
      "metadata": {
        "colab": {
          "base_uri": "https://localhost:8080/"
        },
        "id": "GL1JCuROdBot",
        "outputId": "9ff778fe-7db8-4f5c-d1d7-428ed180e6e8"
      },
      "execution_count": null,
      "outputs": [
        {
          "output_type": "stream",
          "name": "stdout",
          "text": [
            "110.0\n"
          ]
        }
      ]
    },
    {
      "cell_type": "code",
      "source": [
        "# exercicio 09\n",
        "\n",
        "# Reverso do número. Faça uma função que retorne o reverso\n",
        "# de um número interio informad. por exemplo: 127 ->721\n",
        "\n",
        "\n",
        "def reverse(x):\n",
        "  print(x [ -1: - (len(x)+1): - 1])"
      ],
      "metadata": {
        "id": "hSHjZeq7dI57"
      },
      "execution_count": null,
      "outputs": []
    },
    {
      "cell_type": "code",
      "source": [
        "obj1 = reverse(input('digite um número: '))"
      ],
      "metadata": {
        "colab": {
          "base_uri": "https://localhost:8080/"
        },
        "id": "aWMMS1UwfhY9",
        "outputId": "2b6426ae-080e-4677-e40c-78f4846e8c61"
      },
      "execution_count": null,
      "outputs": [
        {
          "output_type": "stream",
          "name": "stdout",
          "text": [
            "digite um número: 23\n",
            "32\n"
          ]
        }
      ]
    },
    {
      "cell_type": "code",
      "source": [
        "numero  = input(\"Número: \")\n",
        "\n",
        "print( numero [-1 ::-1])"
      ],
      "metadata": {
        "colab": {
          "base_uri": "https://localhost:8080/"
        },
        "id": "1SQMzxE7fySg",
        "outputId": "0ab41709-b22d-48a9-d501-859c43b6b314"
      },
      "execution_count": null,
      "outputs": [
        {
          "output_type": "stream",
          "name": "stdout",
          "text": [
            "Número: 3456\n",
            "6543\n"
          ]
        }
      ]
    },
    {
      "cell_type": "code",
      "source": [
        "def exe9(n):\n",
        "  inverso = str(n)\n",
        "\n",
        "  print(inverso [:: - 1])"
      ],
      "metadata": {
        "id": "R5SJRF9rf9VI"
      },
      "execution_count": null,
      "outputs": []
    },
    {
      "cell_type": "code",
      "source": [
        "oo = exe9(345)"
      ],
      "metadata": {
        "colab": {
          "base_uri": "https://localhost:8080/"
        },
        "id": "zEy7eCMLgqK6",
        "outputId": "5f5ff7d6-2ebd-4670-e5a3-e048b0f325de"
      },
      "execution_count": null,
      "outputs": [
        {
          "output_type": "stream",
          "name": "stdout",
          "text": [
            "543\n"
          ]
        }
      ]
    }
  ]
}