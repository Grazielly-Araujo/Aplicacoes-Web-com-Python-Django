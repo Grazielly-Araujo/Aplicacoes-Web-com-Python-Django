{
  "nbformat": 4,
  "nbformat_minor": 0,
  "metadata": {
    "colab": {
      "provenance": [],
      "collapsed_sections": [],
      "authorship_tag": "ABX9TyNgBhjuRTCkLqSPm+dh5CPk",
      "include_colab_link": true
    },
    "kernelspec": {
      "name": "python3",
      "display_name": "Python 3"
    },
    "language_info": {
      "name": "python"
    }
  },
  "cells": [
    {
      "cell_type": "markdown",
      "metadata": {
        "id": "view-in-github",
        "colab_type": "text"
      },
      "source": [
        "<a href=\"https://colab.research.google.com/github/Grazielly-Araujo/Aplicacoes-Web-com-Python-Django/blob/main/aulaPython02.ipynb\" target=\"_parent\"><img src=\"https://colab.research.google.com/assets/colab-badge.svg\" alt=\"Open In Colab\"/></a>"
      ]
    },
    {
      "cell_type": "code",
      "execution_count": null,
      "metadata": {
        "colab": {
          "base_uri": "https://localhost:8080/"
        },
        "id": "WO3dLBoyEUOG",
        "outputId": "b245c67d-10f4-4958-89b8-906b9397301a"
      },
      "outputs": [
        {
          "name": "stdout",
          "output_type": "stream",
          "text": [
            "Digite um número inteiro: 4\n",
            " Digite outro número inteiro: 5\n"
          ]
        }
      ],
      "source": [
        "valor1 = input ( 'Digite um número inteiro: ')\n",
        "valor2 = input ( ' Digite outro número inteiro: ')"
      ]
    },
    {
      "cell_type": "code",
      "source": [
        "print ( valor1 == valor2)\n",
        "print ( valor1 > valor2)\n",
        "print ( valor1 < valor2)\n",
        "print ( valor1 >= valor2)\n",
        "print ( valor1 <= valor2)"
      ],
      "metadata": {
        "colab": {
          "base_uri": "https://localhost:8080/"
        },
        "id": "9xhyL5KXEVwa",
        "outputId": "bb83dab2-5f84-45d0-f687-498470c4facf"
      },
      "execution_count": null,
      "outputs": [
        {
          "output_type": "stream",
          "name": "stdout",
          "text": [
            "False\n",
            "False\n",
            "True\n",
            "False\n",
            "True\n"
          ]
        }
      ]
    },
    {
      "cell_type": "code",
      "source": [
        "numero = 10 \n",
        "print ( numero > 0 and numero < 10)"
      ],
      "metadata": {
        "colab": {
          "base_uri": "https://localhost:8080/"
        },
        "id": "lslrfS8FEVqi",
        "outputId": "e818c389-3707-449f-8a6e-27caae027db5"
      },
      "execution_count": null,
      "outputs": [
        {
          "output_type": "stream",
          "name": "stdout",
          "text": [
            "False\n"
          ]
        }
      ]
    },
    {
      "cell_type": "code",
      "source": [
        "numero = 10 \n",
        "print ( numero > 0 or numero < 10)"
      ],
      "metadata": {
        "colab": {
          "base_uri": "https://localhost:8080/"
        },
        "id": "YIaVv-JwHT1q",
        "outputId": "707df7cd-9718-43e6-910e-46b6746c117d"
      },
      "execution_count": null,
      "outputs": [
        {
          "output_type": "stream",
          "name": "stdout",
          "text": [
            "True\n"
          ]
        }
      ]
    },
    {
      "cell_type": "code",
      "source": [
        "\"\"\"if (): \n",
        "  print ()\n",
        "else: \n",
        "  print ()\"\"\""
      ],
      "metadata": {
        "colab": {
          "base_uri": "https://localhost:8080/",
          "height": 36
        },
        "id": "HjrMbZmyHTqL",
        "outputId": "4bd09937-8499-4678-ceb4-74301f8b7ba9"
      },
      "execution_count": null,
      "outputs": [
        {
          "output_type": "execute_result",
          "data": {
            "text/plain": [
              "'if (): \\n  print ()\\nelse: \\n  print ()'"
            ],
            "application/vnd.google.colaboratory.intrinsic+json": {
              "type": "string"
            }
          },
          "metadata": {},
          "execution_count": 5
        }
      ]
    },
    {
      "cell_type": "code",
      "source": [
        "n = int(input ( 'Digite um número inteiro: '))  # 1 modo de exibir um numero inteiro e dizer se é impar ou par "
      ],
      "metadata": {
        "colab": {
          "base_uri": "https://localhost:8080/"
        },
        "id": "mb9l24vXHTnK",
        "outputId": "841a01e7-8317-4068-bab3-6388ccb914df"
      },
      "execution_count": null,
      "outputs": [
        {
          "name": "stdout",
          "output_type": "stream",
          "text": [
            "Digite um número inteiro: 45\n"
          ]
        }
      ]
    },
    {
      "cell_type": "code",
      "source": [
        "if n % 2 == 0:\n",
        "  print (n, 'é par')\n",
        "else:\n",
        "    print ( n, 'é impar')"
      ],
      "metadata": {
        "colab": {
          "base_uri": "https://localhost:8080/"
        },
        "id": "eM30l7RwGsSM",
        "outputId": "90ac7cfa-f96e-42cf-ff78-e77c43e5a4d7"
      },
      "execution_count": null,
      "outputs": [
        {
          "output_type": "stream",
          "name": "stdout",
          "text": [
            "45 é impar\n"
          ]
        }
      ]
    },
    {
      "cell_type": "code",
      "source": [
        "n = int (input( ' Digite um número inteiro: ')) # 2 modo de exibir um numero inteiro e dizer se é impar ou par "
      ],
      "metadata": {
        "colab": {
          "base_uri": "https://localhost:8080/"
        },
        "id": "pc3hJQJzPN9s",
        "outputId": "f70f5714-a0eb-4e12-db1d-a1859de1bcc6"
      },
      "execution_count": null,
      "outputs": [
        {
          "name": "stdout",
          "output_type": "stream",
          "text": [
            " Digite um número inteiro: 77\n"
          ]
        }
      ]
    },
    {
      "cell_type": "code",
      "source": [
        "if n % 2 == 0:\n",
        "  print ( n,'é par')\n",
        "if n % 2 != 0:\n",
        "  print ( n, 'é impar.')"
      ],
      "metadata": {
        "colab": {
          "base_uri": "https://localhost:8080/"
        },
        "id": "S-dSoCiGPN6c",
        "outputId": "f1bc5afb-25f5-4ca8-b069-c564a89f1cd2"
      },
      "execution_count": null,
      "outputs": [
        {
          "output_type": "stream",
          "name": "stdout",
          "text": [
            "77 é impar.\n"
          ]
        }
      ]
    },
    {
      "cell_type": "code",
      "source": [
        "#DESAFIO IF com OR\n",
        "\n",
        "cupom = input('Digite o cupom: ')"
      ],
      "metadata": {
        "colab": {
          "base_uri": "https://localhost:8080/"
        },
        "id": "foe6EboRPN30",
        "outputId": "14deee0e-d687-474b-b77f-202c85a919e2"
      },
      "execution_count": null,
      "outputs": [
        {
          "name": "stdout",
          "output_type": "stream",
          "text": [
            "Digite o cupom: aula1\n"
          ]
        }
      ]
    },
    {
      "cell_type": "code",
      "source": [
        "if ( cupom == 'aula1' or cupom == 'aula2'):\n",
        "  print ( 'Você ganhou 10% de desconto!!')\n"
      ],
      "metadata": {
        "colab": {
          "base_uri": "https://localhost:8080/"
        },
        "id": "kQwi9e2ePN1U",
        "outputId": "c568cacd-9472-48ea-f376-d893bb5573e3"
      },
      "execution_count": null,
      "outputs": [
        {
          "output_type": "stream",
          "name": "stdout",
          "text": [
            "Você ganhou 10% de desconto!!\n"
          ]
        }
      ]
    },
    {
      "cell_type": "code",
      "source": [
        "#DESAFIO IF com OR\n",
        "\n",
        "cupom = input ( 'Digite o cupom: ')\n",
        "\n",
        "if (cupom == 'aula1' or cupom == 'aula2'):\n",
        "  print( 'Você ganhou 10% de desconto!')\n",
        "else: \n",
        "  print ( 'Cupom invalido! Digite novamente.')"
      ],
      "metadata": {
        "colab": {
          "base_uri": "https://localhost:8080/"
        },
        "id": "CVA9A9kVPNys",
        "outputId": "64bfd3dc-89e6-41fc-990d-f05374ef128f"
      },
      "execution_count": null,
      "outputs": [
        {
          "output_type": "stream",
          "name": "stdout",
          "text": [
            "Digite o cupom: aula1\n",
            "Você ganhou 10% de desconto!\n"
          ]
        }
      ]
    },
    {
      "cell_type": "code",
      "source": [
        "cupom = input ( 'Digite seu cupom: ')"
      ],
      "metadata": {
        "colab": {
          "base_uri": "https://localhost:8080/"
        },
        "id": "1-vPGFauPNv0",
        "outputId": "fbfcaf09-fda7-44ac-bda5-ce20daebbd1a"
      },
      "execution_count": null,
      "outputs": [
        {
          "name": "stdout",
          "output_type": "stream",
          "text": [
            "Digite seu cupom: aula\n"
          ]
        }
      ]
    },
    {
      "cell_type": "code",
      "source": [
        "if ( cupom == 'aula1' or cupom == 'aula2'):\n",
        "  print( 'você ganhou 15% de desconto.')\n",
        "else:\n",
        "  print(' você ganhou 5% de desconto')"
      ],
      "metadata": {
        "colab": {
          "base_uri": "https://localhost:8080/"
        },
        "id": "T6oJUTDoPNtE",
        "outputId": "3dd0d13e-830c-44bb-ce11-3eb2d3f458db"
      },
      "execution_count": null,
      "outputs": [
        {
          "output_type": "stream",
          "name": "stdout",
          "text": [
            " você ganhou 5% de desconto\n"
          ]
        }
      ]
    },
    {
      "cell_type": "code",
      "source": [
        "\"\"\"if():   \n",
        "  print()\n",
        "elif():\n",
        "  print()\n",
        "else:\n",
        "  print()\"\"\""
      ],
      "metadata": {
        "id": "NYzgbndBPNqk"
      },
      "execution_count": null,
      "outputs": []
    },
    {
      "cell_type": "code",
      "source": [
        "#DESAFIO IF, ELIF E ELSE\n",
        "\n",
        "cupom = input ('Digite seu cupom: ')\n",
        "\n",
        "if ( cupom == 'aula1'):\n",
        "  print( 'Você ganhou 15% de desconto!')\n",
        "elif ( cupom == 'aula2'):\n",
        "  print( 'Você ganhou 10% de desconto!')\n",
        "else:\n",
        "  print( 'Você ganhou 5% de desconto.')"
      ],
      "metadata": {
        "colab": {
          "base_uri": "https://localhost:8080/"
        },
        "id": "KTvCfIYgVcx9",
        "outputId": "49c46c05-9a68-4307-893c-47ee111bcb78"
      },
      "execution_count": null,
      "outputs": [
        {
          "output_type": "stream",
          "name": "stdout",
          "text": [
            "Digite seu cupom: aula2\n",
            "Você ganhou 10% de desconto!\n"
          ]
        }
      ]
    },
    {
      "cell_type": "code",
      "source": [
        "#INDENTAÇÃO\n",
        "\n",
        "\"\"\" if (1 == 1): #mensagem no primeiro nível\n",
        "      print( ' Mensagem no segundo nível') # Segundo nível\n",
        "      if(( 1 == 2) == False):\n",
        "        Print('Mensagem no terceiro nível')  #Terceiro nível\"\"\""
      ],
      "metadata": {
        "id": "ZJJS_n5mVcuV"
      },
      "execution_count": null,
      "outputs": []
    },
    {
      "cell_type": "code",
      "source": [
        "clima = input (' Está sol lá fora? R_')\n",
        "cash = input (' Você tem dinheiro? R_')\n",
        "\n",
        "if ( clima == 'sim' and cash == 'sim'):\n",
        "  print( 'Partiu praia!!')\n",
        "else: \n",
        "  print( 'Fica em casa bença, bora de Netflix.')"
      ],
      "metadata": {
        "colab": {
          "base_uri": "https://localhost:8080/"
        },
        "id": "q27gC3I1ZcaB",
        "outputId": "237704dc-f308-4acd-e6c9-c7d849d5230a"
      },
      "execution_count": null,
      "outputs": [
        {
          "output_type": "stream",
          "name": "stdout",
          "text": [
            " Está sol lá fora? R_não\n",
            " Você tem dinheiro? R_não\n",
            "Fica em casa bença, bora de Netflix.\n"
          ]
        }
      ]
    },
    {
      "cell_type": "code",
      "source": [
        "clima = input (' Está sol lá fora? ')\n",
        "cash = input ( 'Você tem dinheiro bença? ')\n",
        "\n",
        "if ( clima == 'sim' or cash == 'sim'):\n",
        "  print('Partiu praia!!')\n",
        "else:\n",
        "  print('Assistir Netflix.')"
      ],
      "metadata": {
        "colab": {
          "base_uri": "https://localhost:8080/"
        },
        "id": "xJFL19yCdwLF",
        "outputId": "477048b3-076b-447b-fd64-a6ed04b3e395"
      },
      "execution_count": null,
      "outputs": [
        {
          "output_type": "stream",
          "name": "stdout",
          "text": [
            " Está sol lá fora? não\n",
            "Você tem dinheiro bença? sim\n",
            "Partiu praia!!\n"
          ]
        }
      ]
    },
    {
      "cell_type": "code",
      "source": [
        "clima = input (' Está sol lá fora? ')\n",
        "cash = input (' Você tem dinheiro bença? ')\n",
        "\n",
        "if ( clima == 'sim'):\n",
        "  print( 'Partiu praia!')\n",
        "  if ( cash == 'sim'):\n",
        "   print('Partiu praia!')\n",
        "else:\n",
        "  print('Assisrtir netflix')"
      ],
      "metadata": {
        "colab": {
          "base_uri": "https://localhost:8080/"
        },
        "id": "34OsrBKle-3e",
        "outputId": "ddac82e6-198d-4c9d-b292-ba3809753b8a"
      },
      "execution_count": null,
      "outputs": [
        {
          "output_type": "stream",
          "name": "stdout",
          "text": [
            " Está sol lá fora? não\n",
            " Você tem dinheiro bença? sim\n",
            "Assisrtir netflix\n"
          ]
        }
      ]
    },
    {
      "cell_type": "code",
      "source": [
        "#RESPOSTA DO DESAFIO\n",
        "\n",
        "tempo = input ('Está fazendo sol? ')\n",
        "\n",
        "if ( tempo == 'sim'):\n",
        "  dinheiro = input ('Você tem dinheiro? ')\n",
        "  if ( dinheiro == 'sim'):\n",
        "    print( 'Vamos à praia!')\n",
        "  else: \n",
        "      print(' vá ligar o ventilador.')\n",
        "else: \n",
        "  print( ' Vamos assistir Netflix ')"
      ],
      "metadata": {
        "id": "ASL3yT-lgxu_"
      },
      "execution_count": null,
      "outputs": []
    },
    {
      "cell_type": "code",
      "source": [
        "#EXERCICIO\n",
        "\"\"\" Num determinado estado, para transferências de veículos, o DETRAN cobra uma taxa de 1%\n",
        "para carros fabricados antes de 1990 e uma taxa de 1.5% para os\n",
        " fabricados de 1990 em diante, a taxa está incidindo\n",
        "sobre o valor do carro. faça um algoritmo que lê o ano e o\n",
        " preço do carro e a seguir calcula e imprime o imposto a ser pago.\"\"\""
      ],
      "metadata": {
        "id": "y_OTWH3EiC0v"
      },
      "execution_count": null,
      "outputs": []
    },
    {
      "cell_type": "code",
      "source": [
        "ano = int(input ('Qual ano do seu carro? '))\n",
        "carro = float (input ('Qual valor do seu carro? '))\n",
        "\n",
        "taxa =  0.01\n",
        "taxa2 = 0.015\n",
        "\n",
        "impost = ( carro * taxa)\n",
        "impost2 = (carro* taxa2)\n",
        "\n",
        "if ( ano < 1990):\n",
        "  print('O seu carro é do ano', ano ,'e o valor de imposto a ser pago é de:R$ ', impost)\n",
        "else:\n",
        "  print('O seu carro é do ano', ano, 'e o valor de imposto a ser pago é de:R$ ', impost2)"
      ],
      "metadata": {
        "id": "lildTjM7nAUQ"
      },
      "execution_count": null,
      "outputs": []
    },
    {
      "cell_type": "code",
      "source": [
        "# EXERCICIO 02\n",
        "\"\"\" Uma empresa concederá um aumento de salário aos seus funcionários,\n",
        "variável de acordo com o cargo, conforme a tabela abaixo. Faça um algoritmo\n",
        "que leia o salário e o cargo de um funcionário e calcule o novo salário. Se o\n",
        "cargo do funcionário não estiver na tabela, ele deverá, então, receber 40% de\n",
        "aumento. Mostre o salário antigo, o novo salário e a diferença.\"\"\""
      ],
      "metadata": {
        "id": "InsMok-YOqxl"
      },
      "execution_count": null,
      "outputs": []
    },
    {
      "cell_type": "code",
      "source": [
        "cargo = str(input ('Informe qual o seu cargo: '))\n",
        "salario = float( input ('Informe o seu salário: '))\n",
        "\n",
        "taxa = 0.1\n",
        "taxa2 = 0.2\n",
        "taxa3 = 0.3\n",
        "taxa4 = 0.4\n",
        "\n",
        "aument = (salario * taxa )\n",
        "aument2 = (salario * taxa2)\n",
        "aument3 = (salario * taxa3)\n",
        "aument4 = (salario * taxa4)\n",
        "\n",
        "if (cargo == 101 or cargo == 'gerente'):\n",
        "  print( 'Seu salário antes do acrescimo é de:R$ ', salario,' Você recebeu uma bonificação de:R$', aument, 'e passou a receber:R$', salario + aument)\n",
        "elif( cargo == 102 or cargo == 'engenheiro'):\n",
        "  print('Seu salário antes do acrescimo é de:R$ ', salario,' Você recebeu uma bonificação de:R$', aument2, 'e passou a receber:R$', salario + aument2)\n",
        "elif(cargo == 103 or cargo == 'tecnico'):\n",
        "  print('Seu salário antes do acrescimo é de:R$ ', salario,' Você recebeu uma bonificação de:R$', aument3, 'e passou a receber:R$', salario + aument3)\n",
        "else:\n",
        "  print('Seu salário antes do acrescimo é de:R$ ', salario,' Você recebeu uma bonificação de:R$', aument4, 'e passou a receber:R$', salario + aument4)  "
      ],
      "metadata": {
        "id": "qb-7lyrLOzW5"
      },
      "execution_count": null,
      "outputs": []
    },
    {
      "cell_type": "code",
      "source": [
        "# EXERCICIO 03\n",
        "\"\"\" Um banco concederá um crédito especial aos seus clientes, variável com o\n",
        "saldo médio no último ano. Faça um algoritmo que leia o saldo médio de um\n",
        "cliente e calcule o valor do crédito de acordo com a tabela abaixo. Mostre uma\n",
        "mensagem informando o saldo médio e o valor do crédito.\"\"\""
      ],
      "metadata": {
        "id": "Hr2DiMJ5qHGo"
      },
      "execution_count": null,
      "outputs": []
    },
    {
      "cell_type": "code",
      "source": [
        "jan = float( input ( 'Informe seu salario do mês de Janeiro: '))\n",
        "fev = float( input ( 'Informe seu salário do mês de Fevereiro: '))\n",
        "mar = float( input ( 'Informe seu salário do mês de Março: '))\n",
        "abril = float( input ( 'Informe seu salário do mês de Abril: '))\n",
        "maio = float( input ( 'Informe seu salário do mês de Maio: '))\n",
        "jun = float ( input ( 'informe seu salário do mês de Junho: '))\n",
        "jul = float ( input ( 'Informe seu salário do mês de Julho:'))\n",
        "ago = float ( input ( 'Informe seu salário do mês de Agosto: '))\n",
        "sete = float ( input ( 'Informe seu salário do mês de Setembro: '))\n",
        "out = float ( input ( 'Informe seu salário do mês de Outubro: '))\n",
        "nov = float ( input ( 'Informe seu salário do mês de Novembro: '))\n",
        "dez = float ( input ( 'Informe seu salário do mês de Dezembro: '))\n",
        "\n",
        "cal = ((jan + fev + mar + abril + maio + jun + jul + ago + sete + out + nov + dez) / 12 )\n",
        "\n",
        "taxa = 0.2\n",
        "taxa2 = 0.3\n",
        "taxa3 = 0.4\n",
        "\n",
        "\n",
        "if( cal <= 200):\n",
        "  print( ' O seu saldo médio é de', cal, 'reais.', 'Desculpe, você não possui crédito disponivel.')\n",
        "elif( cal <= 400):\n",
        "  print( 'O seu saldo médio é de ', cal, 'reais.',' Você possui o valor de ', cal * taxa , 'em crédito.')\n",
        "elif (cal <= 600):\n",
        "  print(' O seu saldo médio é de ', cal,'reais.' ,'Você possui o valor de ', cal * taxa2, 'em crédito')\n",
        "else:\n",
        "  print(' O seu saldo médio é de ', cal, 'reais.', 'Você possui o valor de ', cal * taxa3, ' em crédito')  "
      ],
      "metadata": {
        "id": "Do8tH7B2LpUg"
      },
      "execution_count": null,
      "outputs": []
    },
    {
      "cell_type": "code",
      "source": [
        "# EXERCICIO 04\n",
        "\"\"\" Elabore um algoritmo que leia 5 valores inteiros em cinco\n",
        "variáveis diferentes e apresente na tela o maior e o menor deles.\"\"\""
      ],
      "metadata": {
        "id": "TWBX1PqLSWgw"
      },
      "execution_count": null,
      "outputs": []
    },
    {
      "cell_type": "code",
      "source": [
        "valor1 = int(input('Informe o primeiro valor: '))\n",
        "valor2 = int(input('Informe o segundo valor: '))\n",
        "valor3 = int(input('Informe o terceiro valor: '))\n",
        "valor4 = int(input('Informe o quarto valor: '))\n",
        "valor5 = int(input('Informe o quinto  valor: '))\n",
        "\n",
        "lista = [valor1, valor2, valor3, valor4, valor5]\n",
        "\n",
        "\n",
        "\n",
        "print ('O maior valor digitado é: ', max(lista))\n",
        "\n",
        "print ( ' O menor valor digitado é: ', min(lista))"
      ],
      "metadata": {
        "id": "mzygslKXvveJ"
      },
      "execution_count": null,
      "outputs": []
    }
  ]
}